{
 "cells": [
  {
   "cell_type": "code",
   "execution_count": 2,
   "id": "ee2c44b2-b102-45a3-9a46-0e4a830155d9",
   "metadata": {},
   "outputs": [],
   "source": [
    "import tensorflow as tf\n",
    "from tensorflow.keras.models import Sequential\n",
    "from tensorflow.keras.layers import Conv2D, MaxPooling2D, Flatten, Dense, Dropout\n",
    "from tensorflow.keras.models import Model\n",
    "from tensorflow.keras.datasets import cifar100\n",
    "from tensorflow.keras.utils import to_categorical\n",
    "from tensorflow.keras.optimizers import Adam\n",
    "import matplotlib.pyplot as plt\n",
    "\n",
    "# Models to do transfer learning on\n",
    "from tensorflow.keras.applications.vgg16 import VGG16\n",
    "from tensorflow.keras.applications.vgg19 import VGG19\n",
    "from tensorflow.keras.applications.resnet50 import ResNet50\n",
    "from tensorflow.keras.applications.inception_v3 import InceptionV3\n",
    "from tensorflow.keras.applications.mobilenet_v2 import MobileNetV2"
   ]
  },
  {
   "cell_type": "markdown",
   "id": "ca285926-132c-4a9f-8399-0e6ab62b9c44",
   "metadata": {},
   "source": [
    "# Load train and testdata"
   ]
  },
  {
   "cell_type": "code",
   "execution_count": 3,
   "id": "b3777781-d724-41ec-9b88-6a08ee726544",
   "metadata": {},
   "outputs": [
    {
     "name": "stdout",
     "output_type": "stream",
     "text": [
      "Downloading data from https://www.cs.toronto.edu/~kriz/cifar-100-python.tar.gz\n",
      "169001437/169001437 [==============================] - 9s 0us/step\n"
     ]
    }
   ],
   "source": [
    "# Load and preprocess fashion mnist data for benchmark model\n",
    "(train_images, train_labels), (test_images, test_labels) = cifar100.load_data()"
   ]
  },
  {
   "cell_type": "markdown",
   "id": "ab80864c-ffa6-4c38-ab03-46457c859c54",
   "metadata": {},
   "source": [
    "# Benchmark model\n",
    "Don't run this code (it takes a long time to run).\n",
    "\n",
    "Perfpormance: 52.6% on testdata."
   ]
  },
  {
   "cell_type": "code",
   "execution_count": 4,
   "id": "12e90f46-ee5f-48a2-9cb0-1a197d6c0073",
   "metadata": {},
   "outputs": [],
   "source": [
    "# Reshape and normalize the images\n",
    "train_images = train_images.astype('float32') / 255\n",
    "test_images = test_images.astype('float32') / 255"
   ]
  },
  {
   "cell_type": "code",
   "execution_count": 5,
   "id": "1f21abe2-d17b-4303-aa87-89dc691114a9",
   "metadata": {},
   "outputs": [],
   "source": [
    "def build_benchmark_model():\n",
    "    model = Sequential([\n",
    "        Conv2D(64, (3, 3), padding='same', activation='relu', input_shape=(32, 32, 3)),\n",
    "        MaxPooling2D((2, 2)),\n",
    "        Dropout(0.3),\n",
    "    \n",
    "        Conv2D(128, (3, 3), padding='same', activation='relu'),\n",
    "        MaxPooling2D((2, 2)),\n",
    "        Dropout(0.4),\n",
    "    \n",
    "        Conv2D(256, (3, 3), padding='same', activation='relu'),\n",
    "        MaxPooling2D((2, 2)),\n",
    "        Dropout(0.5),\n",
    "    \n",
    "        Flatten(),\n",
    "        Dense(1024, activation='relu'),\n",
    "        Dropout(0.6),\n",
    "        Dense(100, activation='softmax')  # 100 classes in CIFAR-100\n",
    "    ])\n",
    "    \n",
    "    model.compile(optimizer=Adam(learning_rate=0.0001), loss='sparse_categorical_crossentropy', metrics=['accuracy'])\n",
    "    return model"
   ]
  },
  {
   "cell_type": "code",
   "execution_count": 6,
   "id": "b9633ede-28c6-40df-9273-8a7d9a9d8870",
   "metadata": {},
   "outputs": [],
   "source": [
    "benchmark_model = build_benchmark_model()"
   ]
  },
  {
   "cell_type": "code",
   "execution_count": 7,
   "id": "e1c12c80-0cbe-4df6-9ede-57c649b17c3d",
   "metadata": {},
   "outputs": [
    {
     "name": "stdout",
     "output_type": "stream",
     "text": [
      "Model: \"sequential\"\n",
      "_________________________________________________________________\n",
      " Layer (type)                Output Shape              Param #   \n",
      "=================================================================\n",
      " conv2d (Conv2D)             (None, 32, 32, 64)        1792      \n",
      "                                                                 \n",
      " max_pooling2d (MaxPooling2  (None, 16, 16, 64)        0         \n",
      " D)                                                              \n",
      "                                                                 \n",
      " dropout (Dropout)           (None, 16, 16, 64)        0         \n",
      "                                                                 \n",
      " conv2d_1 (Conv2D)           (None, 16, 16, 128)       73856     \n",
      "                                                                 \n",
      " max_pooling2d_1 (MaxPoolin  (None, 8, 8, 128)         0         \n",
      " g2D)                                                            \n",
      "                                                                 \n",
      " dropout_1 (Dropout)         (None, 8, 8, 128)         0         \n",
      "                                                                 \n",
      " conv2d_2 (Conv2D)           (None, 8, 8, 256)         295168    \n",
      "                                                                 \n",
      " max_pooling2d_2 (MaxPoolin  (None, 4, 4, 256)         0         \n",
      " g2D)                                                            \n",
      "                                                                 \n",
      " dropout_2 (Dropout)         (None, 4, 4, 256)         0         \n",
      "                                                                 \n",
      " flatten (Flatten)           (None, 4096)              0         \n",
      "                                                                 \n",
      " dense (Dense)               (None, 1024)              4195328   \n",
      "                                                                 \n",
      " dropout_3 (Dropout)         (None, 1024)              0         \n",
      "                                                                 \n",
      " dense_1 (Dense)             (None, 100)               102500    \n",
      "                                                                 \n",
      "=================================================================\n",
      "Total params: 4668644 (17.81 MB)\n",
      "Trainable params: 4668644 (17.81 MB)\n",
      "Non-trainable params: 0 (0.00 Byte)\n",
      "_________________________________________________________________\n"
     ]
    }
   ],
   "source": [
    "benchmark_model.summary()"
   ]
  },
  {
   "cell_type": "code",
   "execution_count": 8,
   "id": "257dae0b-c77e-4861-b782-a039936bc0fd",
   "metadata": {},
   "outputs": [
    {
     "name": "stdout",
     "output_type": "stream",
     "text": [
      "Epoch 1/200\n"
     ]
    },
    {
     "ename": "KeyboardInterrupt",
     "evalue": "",
     "output_type": "error",
     "traceback": [
      "\u001b[0;31m---------------------------------------------------------------------------\u001b[0m",
      "\u001b[0;31mKeyboardInterrupt\u001b[0m                         Traceback (most recent call last)",
      "Cell \u001b[0;32mIn[8], line 1\u001b[0m\n\u001b[0;32m----> 1\u001b[0m \u001b[43mbenchmark_model\u001b[49m\u001b[38;5;241;43m.\u001b[39;49m\u001b[43mfit\u001b[49m\u001b[43m(\u001b[49m\u001b[43mtrain_images\u001b[49m\u001b[43m,\u001b[49m\u001b[43m \u001b[49m\u001b[43mtrain_labels\u001b[49m\u001b[43m,\u001b[49m\u001b[43m \u001b[49m\u001b[43mepochs\u001b[49m\u001b[38;5;241;43m=\u001b[39;49m\u001b[38;5;241;43m200\u001b[39;49m\u001b[43m,\u001b[49m\u001b[43m \u001b[49m\u001b[43mbatch_size\u001b[49m\u001b[38;5;241;43m=\u001b[39;49m\u001b[38;5;241;43m256\u001b[39;49m\u001b[43m,\u001b[49m\u001b[43m \u001b[49m\u001b[43mverbose\u001b[49m\u001b[38;5;241;43m=\u001b[39;49m\u001b[38;5;241;43m1\u001b[39;49m\u001b[43m)\u001b[49m\n",
      "File \u001b[0;32m~/.local/share/virtualenvs/Deep_learning-ZjjgEFKy/lib/python3.11/site-packages/keras/src/utils/traceback_utils.py:65\u001b[0m, in \u001b[0;36mfilter_traceback.<locals>.error_handler\u001b[0;34m(*args, **kwargs)\u001b[0m\n\u001b[1;32m     63\u001b[0m filtered_tb \u001b[38;5;241m=\u001b[39m \u001b[38;5;28;01mNone\u001b[39;00m\n\u001b[1;32m     64\u001b[0m \u001b[38;5;28;01mtry\u001b[39;00m:\n\u001b[0;32m---> 65\u001b[0m     \u001b[38;5;28;01mreturn\u001b[39;00m \u001b[43mfn\u001b[49m\u001b[43m(\u001b[49m\u001b[38;5;241;43m*\u001b[39;49m\u001b[43margs\u001b[49m\u001b[43m,\u001b[49m\u001b[43m \u001b[49m\u001b[38;5;241;43m*\u001b[39;49m\u001b[38;5;241;43m*\u001b[39;49m\u001b[43mkwargs\u001b[49m\u001b[43m)\u001b[49m\n\u001b[1;32m     66\u001b[0m \u001b[38;5;28;01mexcept\u001b[39;00m \u001b[38;5;167;01mException\u001b[39;00m \u001b[38;5;28;01mas\u001b[39;00m e:\n\u001b[1;32m     67\u001b[0m     filtered_tb \u001b[38;5;241m=\u001b[39m _process_traceback_frames(e\u001b[38;5;241m.\u001b[39m__traceback__)\n",
      "File \u001b[0;32m~/.local/share/virtualenvs/Deep_learning-ZjjgEFKy/lib/python3.11/site-packages/keras/src/engine/training.py:1807\u001b[0m, in \u001b[0;36mModel.fit\u001b[0;34m(self, x, y, batch_size, epochs, verbose, callbacks, validation_split, validation_data, shuffle, class_weight, sample_weight, initial_epoch, steps_per_epoch, validation_steps, validation_batch_size, validation_freq, max_queue_size, workers, use_multiprocessing)\u001b[0m\n\u001b[1;32m   1799\u001b[0m \u001b[38;5;28;01mwith\u001b[39;00m tf\u001b[38;5;241m.\u001b[39mprofiler\u001b[38;5;241m.\u001b[39mexperimental\u001b[38;5;241m.\u001b[39mTrace(\n\u001b[1;32m   1800\u001b[0m     \u001b[38;5;124m\"\u001b[39m\u001b[38;5;124mtrain\u001b[39m\u001b[38;5;124m\"\u001b[39m,\n\u001b[1;32m   1801\u001b[0m     epoch_num\u001b[38;5;241m=\u001b[39mepoch,\n\u001b[0;32m   (...)\u001b[0m\n\u001b[1;32m   1804\u001b[0m     _r\u001b[38;5;241m=\u001b[39m\u001b[38;5;241m1\u001b[39m,\n\u001b[1;32m   1805\u001b[0m ):\n\u001b[1;32m   1806\u001b[0m     callbacks\u001b[38;5;241m.\u001b[39mon_train_batch_begin(step)\n\u001b[0;32m-> 1807\u001b[0m     tmp_logs \u001b[38;5;241m=\u001b[39m \u001b[38;5;28;43mself\u001b[39;49m\u001b[38;5;241;43m.\u001b[39;49m\u001b[43mtrain_function\u001b[49m\u001b[43m(\u001b[49m\u001b[43miterator\u001b[49m\u001b[43m)\u001b[49m\n\u001b[1;32m   1808\u001b[0m     \u001b[38;5;28;01mif\u001b[39;00m data_handler\u001b[38;5;241m.\u001b[39mshould_sync:\n\u001b[1;32m   1809\u001b[0m         context\u001b[38;5;241m.\u001b[39masync_wait()\n",
      "File \u001b[0;32m~/.local/share/virtualenvs/Deep_learning-ZjjgEFKy/lib/python3.11/site-packages/tensorflow/python/util/traceback_utils.py:150\u001b[0m, in \u001b[0;36mfilter_traceback.<locals>.error_handler\u001b[0;34m(*args, **kwargs)\u001b[0m\n\u001b[1;32m    148\u001b[0m filtered_tb \u001b[38;5;241m=\u001b[39m \u001b[38;5;28;01mNone\u001b[39;00m\n\u001b[1;32m    149\u001b[0m \u001b[38;5;28;01mtry\u001b[39;00m:\n\u001b[0;32m--> 150\u001b[0m   \u001b[38;5;28;01mreturn\u001b[39;00m \u001b[43mfn\u001b[49m\u001b[43m(\u001b[49m\u001b[38;5;241;43m*\u001b[39;49m\u001b[43margs\u001b[49m\u001b[43m,\u001b[49m\u001b[43m \u001b[49m\u001b[38;5;241;43m*\u001b[39;49m\u001b[38;5;241;43m*\u001b[39;49m\u001b[43mkwargs\u001b[49m\u001b[43m)\u001b[49m\n\u001b[1;32m    151\u001b[0m \u001b[38;5;28;01mexcept\u001b[39;00m \u001b[38;5;167;01mException\u001b[39;00m \u001b[38;5;28;01mas\u001b[39;00m e:\n\u001b[1;32m    152\u001b[0m   filtered_tb \u001b[38;5;241m=\u001b[39m _process_traceback_frames(e\u001b[38;5;241m.\u001b[39m__traceback__)\n",
      "File \u001b[0;32m~/.local/share/virtualenvs/Deep_learning-ZjjgEFKy/lib/python3.11/site-packages/tensorflow/python/eager/polymorphic_function/polymorphic_function.py:832\u001b[0m, in \u001b[0;36mFunction.__call__\u001b[0;34m(self, *args, **kwds)\u001b[0m\n\u001b[1;32m    829\u001b[0m compiler \u001b[38;5;241m=\u001b[39m \u001b[38;5;124m\"\u001b[39m\u001b[38;5;124mxla\u001b[39m\u001b[38;5;124m\"\u001b[39m \u001b[38;5;28;01mif\u001b[39;00m \u001b[38;5;28mself\u001b[39m\u001b[38;5;241m.\u001b[39m_jit_compile \u001b[38;5;28;01melse\u001b[39;00m \u001b[38;5;124m\"\u001b[39m\u001b[38;5;124mnonXla\u001b[39m\u001b[38;5;124m\"\u001b[39m\n\u001b[1;32m    831\u001b[0m \u001b[38;5;28;01mwith\u001b[39;00m OptionalXlaContext(\u001b[38;5;28mself\u001b[39m\u001b[38;5;241m.\u001b[39m_jit_compile):\n\u001b[0;32m--> 832\u001b[0m   result \u001b[38;5;241m=\u001b[39m \u001b[38;5;28;43mself\u001b[39;49m\u001b[38;5;241;43m.\u001b[39;49m\u001b[43m_call\u001b[49m\u001b[43m(\u001b[49m\u001b[38;5;241;43m*\u001b[39;49m\u001b[43margs\u001b[49m\u001b[43m,\u001b[49m\u001b[43m \u001b[49m\u001b[38;5;241;43m*\u001b[39;49m\u001b[38;5;241;43m*\u001b[39;49m\u001b[43mkwds\u001b[49m\u001b[43m)\u001b[49m\n\u001b[1;32m    834\u001b[0m new_tracing_count \u001b[38;5;241m=\u001b[39m \u001b[38;5;28mself\u001b[39m\u001b[38;5;241m.\u001b[39mexperimental_get_tracing_count()\n\u001b[1;32m    835\u001b[0m without_tracing \u001b[38;5;241m=\u001b[39m (tracing_count \u001b[38;5;241m==\u001b[39m new_tracing_count)\n",
      "File \u001b[0;32m~/.local/share/virtualenvs/Deep_learning-ZjjgEFKy/lib/python3.11/site-packages/tensorflow/python/eager/polymorphic_function/polymorphic_function.py:888\u001b[0m, in \u001b[0;36mFunction._call\u001b[0;34m(self, *args, **kwds)\u001b[0m\n\u001b[1;32m    885\u001b[0m \u001b[38;5;28;01mtry\u001b[39;00m:\n\u001b[1;32m    886\u001b[0m   \u001b[38;5;66;03m# This is the first call of __call__, so we have to initialize.\u001b[39;00m\n\u001b[1;32m    887\u001b[0m   initializers \u001b[38;5;241m=\u001b[39m []\n\u001b[0;32m--> 888\u001b[0m   \u001b[38;5;28;43mself\u001b[39;49m\u001b[38;5;241;43m.\u001b[39;49m\u001b[43m_initialize\u001b[49m\u001b[43m(\u001b[49m\u001b[43margs\u001b[49m\u001b[43m,\u001b[49m\u001b[43m \u001b[49m\u001b[43mkwds\u001b[49m\u001b[43m,\u001b[49m\u001b[43m \u001b[49m\u001b[43madd_initializers_to\u001b[49m\u001b[38;5;241;43m=\u001b[39;49m\u001b[43minitializers\u001b[49m\u001b[43m)\u001b[49m\n\u001b[1;32m    889\u001b[0m \u001b[38;5;28;01mfinally\u001b[39;00m:\n\u001b[1;32m    890\u001b[0m   \u001b[38;5;66;03m# At this point we know that the initialization is complete (or less\u001b[39;00m\n\u001b[1;32m    891\u001b[0m   \u001b[38;5;66;03m# interestingly an exception was raised) so we no longer need a lock.\u001b[39;00m\n\u001b[1;32m    892\u001b[0m   \u001b[38;5;28mself\u001b[39m\u001b[38;5;241m.\u001b[39m_lock\u001b[38;5;241m.\u001b[39mrelease()\n",
      "File \u001b[0;32m~/.local/share/virtualenvs/Deep_learning-ZjjgEFKy/lib/python3.11/site-packages/tensorflow/python/eager/polymorphic_function/polymorphic_function.py:695\u001b[0m, in \u001b[0;36mFunction._initialize\u001b[0;34m(self, args, kwds, add_initializers_to)\u001b[0m\n\u001b[1;32m    690\u001b[0m \u001b[38;5;28mself\u001b[39m\u001b[38;5;241m.\u001b[39m_variable_creation_config \u001b[38;5;241m=\u001b[39m \u001b[38;5;28mself\u001b[39m\u001b[38;5;241m.\u001b[39m_generate_scoped_tracing_options(\n\u001b[1;32m    691\u001b[0m     variable_capturing_scope,\n\u001b[1;32m    692\u001b[0m     tracing_compilation\u001b[38;5;241m.\u001b[39mScopeType\u001b[38;5;241m.\u001b[39mVARIABLE_CREATION,\n\u001b[1;32m    693\u001b[0m )\n\u001b[1;32m    694\u001b[0m \u001b[38;5;66;03m# Force the definition of the function for these arguments\u001b[39;00m\n\u001b[0;32m--> 695\u001b[0m \u001b[38;5;28mself\u001b[39m\u001b[38;5;241m.\u001b[39m_concrete_variable_creation_fn \u001b[38;5;241m=\u001b[39m \u001b[43mtracing_compilation\u001b[49m\u001b[38;5;241;43m.\u001b[39;49m\u001b[43mtrace_function\u001b[49m\u001b[43m(\u001b[49m\n\u001b[1;32m    696\u001b[0m \u001b[43m    \u001b[49m\u001b[43margs\u001b[49m\u001b[43m,\u001b[49m\u001b[43m \u001b[49m\u001b[43mkwds\u001b[49m\u001b[43m,\u001b[49m\u001b[43m \u001b[49m\u001b[38;5;28;43mself\u001b[39;49m\u001b[38;5;241;43m.\u001b[39;49m\u001b[43m_variable_creation_config\u001b[49m\n\u001b[1;32m    697\u001b[0m \u001b[43m\u001b[49m\u001b[43m)\u001b[49m\n\u001b[1;32m    699\u001b[0m \u001b[38;5;28;01mdef\u001b[39;00m \u001b[38;5;21minvalid_creator_scope\u001b[39m(\u001b[38;5;241m*\u001b[39munused_args, \u001b[38;5;241m*\u001b[39m\u001b[38;5;241m*\u001b[39munused_kwds):\n\u001b[1;32m    700\u001b[0m \u001b[38;5;250m  \u001b[39m\u001b[38;5;124;03m\"\"\"Disables variable creation.\"\"\"\u001b[39;00m\n",
      "File \u001b[0;32m~/.local/share/virtualenvs/Deep_learning-ZjjgEFKy/lib/python3.11/site-packages/tensorflow/python/eager/polymorphic_function/tracing_compilation.py:178\u001b[0m, in \u001b[0;36mtrace_function\u001b[0;34m(args, kwargs, tracing_options)\u001b[0m\n\u001b[1;32m    175\u001b[0m     args \u001b[38;5;241m=\u001b[39m tracing_options\u001b[38;5;241m.\u001b[39minput_signature\n\u001b[1;32m    176\u001b[0m     kwargs \u001b[38;5;241m=\u001b[39m {}\n\u001b[0;32m--> 178\u001b[0m   concrete_function \u001b[38;5;241m=\u001b[39m \u001b[43m_maybe_define_function\u001b[49m\u001b[43m(\u001b[49m\n\u001b[1;32m    179\u001b[0m \u001b[43m      \u001b[49m\u001b[43margs\u001b[49m\u001b[43m,\u001b[49m\u001b[43m \u001b[49m\u001b[43mkwargs\u001b[49m\u001b[43m,\u001b[49m\u001b[43m \u001b[49m\u001b[43mtracing_options\u001b[49m\n\u001b[1;32m    180\u001b[0m \u001b[43m  \u001b[49m\u001b[43m)\u001b[49m\n\u001b[1;32m    182\u001b[0m \u001b[38;5;28;01mif\u001b[39;00m \u001b[38;5;129;01mnot\u001b[39;00m tracing_options\u001b[38;5;241m.\u001b[39mbind_graph_to_function:\n\u001b[1;32m    183\u001b[0m   concrete_function\u001b[38;5;241m.\u001b[39m_garbage_collector\u001b[38;5;241m.\u001b[39mrelease()  \u001b[38;5;66;03m# pylint: disable=protected-access\u001b[39;00m\n",
      "File \u001b[0;32m~/.local/share/virtualenvs/Deep_learning-ZjjgEFKy/lib/python3.11/site-packages/tensorflow/python/eager/polymorphic_function/tracing_compilation.py:283\u001b[0m, in \u001b[0;36m_maybe_define_function\u001b[0;34m(args, kwargs, tracing_options)\u001b[0m\n\u001b[1;32m    281\u001b[0m \u001b[38;5;28;01melse\u001b[39;00m:\n\u001b[1;32m    282\u001b[0m   target_func_type \u001b[38;5;241m=\u001b[39m lookup_func_type\n\u001b[0;32m--> 283\u001b[0m concrete_function \u001b[38;5;241m=\u001b[39m \u001b[43m_create_concrete_function\u001b[49m\u001b[43m(\u001b[49m\n\u001b[1;32m    284\u001b[0m \u001b[43m    \u001b[49m\u001b[43mtarget_func_type\u001b[49m\u001b[43m,\u001b[49m\u001b[43m \u001b[49m\u001b[43mlookup_func_context\u001b[49m\u001b[43m,\u001b[49m\u001b[43m \u001b[49m\u001b[43mfunc_graph\u001b[49m\u001b[43m,\u001b[49m\u001b[43m \u001b[49m\u001b[43mtracing_options\u001b[49m\n\u001b[1;32m    285\u001b[0m \u001b[43m\u001b[49m\u001b[43m)\u001b[49m\n\u001b[1;32m    287\u001b[0m \u001b[38;5;28;01mif\u001b[39;00m tracing_options\u001b[38;5;241m.\u001b[39mfunction_cache \u001b[38;5;129;01mis\u001b[39;00m \u001b[38;5;129;01mnot\u001b[39;00m \u001b[38;5;28;01mNone\u001b[39;00m:\n\u001b[1;32m    288\u001b[0m   tracing_options\u001b[38;5;241m.\u001b[39mfunction_cache\u001b[38;5;241m.\u001b[39madd(\n\u001b[1;32m    289\u001b[0m       concrete_function, current_func_context\n\u001b[1;32m    290\u001b[0m   )\n",
      "File \u001b[0;32m~/.local/share/virtualenvs/Deep_learning-ZjjgEFKy/lib/python3.11/site-packages/tensorflow/python/eager/polymorphic_function/tracing_compilation.py:310\u001b[0m, in \u001b[0;36m_create_concrete_function\u001b[0;34m(function_type, type_context, func_graph, tracing_options)\u001b[0m\n\u001b[1;32m    303\u001b[0m   placeholder_bound_args \u001b[38;5;241m=\u001b[39m function_type\u001b[38;5;241m.\u001b[39mplaceholder_arguments(\n\u001b[1;32m    304\u001b[0m       placeholder_context\n\u001b[1;32m    305\u001b[0m   )\n\u001b[1;32m    307\u001b[0m disable_acd \u001b[38;5;241m=\u001b[39m tracing_options\u001b[38;5;241m.\u001b[39mattributes \u001b[38;5;129;01mand\u001b[39;00m tracing_options\u001b[38;5;241m.\u001b[39mattributes\u001b[38;5;241m.\u001b[39mget(\n\u001b[1;32m    308\u001b[0m     attributes_lib\u001b[38;5;241m.\u001b[39mDISABLE_ACD, \u001b[38;5;28;01mFalse\u001b[39;00m\n\u001b[1;32m    309\u001b[0m )\n\u001b[0;32m--> 310\u001b[0m traced_func_graph \u001b[38;5;241m=\u001b[39m \u001b[43mfunc_graph_module\u001b[49m\u001b[38;5;241;43m.\u001b[39;49m\u001b[43mfunc_graph_from_py_func\u001b[49m\u001b[43m(\u001b[49m\n\u001b[1;32m    311\u001b[0m \u001b[43m    \u001b[49m\u001b[43mtracing_options\u001b[49m\u001b[38;5;241;43m.\u001b[39;49m\u001b[43mname\u001b[49m\u001b[43m,\u001b[49m\n\u001b[1;32m    312\u001b[0m \u001b[43m    \u001b[49m\u001b[43mtracing_options\u001b[49m\u001b[38;5;241;43m.\u001b[39;49m\u001b[43mpython_function\u001b[49m\u001b[43m,\u001b[49m\n\u001b[1;32m    313\u001b[0m \u001b[43m    \u001b[49m\u001b[43mplaceholder_bound_args\u001b[49m\u001b[38;5;241;43m.\u001b[39;49m\u001b[43margs\u001b[49m\u001b[43m,\u001b[49m\n\u001b[1;32m    314\u001b[0m \u001b[43m    \u001b[49m\u001b[43mplaceholder_bound_args\u001b[49m\u001b[38;5;241;43m.\u001b[39;49m\u001b[43mkwargs\u001b[49m\u001b[43m,\u001b[49m\n\u001b[1;32m    315\u001b[0m \u001b[43m    \u001b[49m\u001b[38;5;28;43;01mNone\u001b[39;49;00m\u001b[43m,\u001b[49m\n\u001b[1;32m    316\u001b[0m \u001b[43m    \u001b[49m\u001b[43mfunc_graph\u001b[49m\u001b[38;5;241;43m=\u001b[39;49m\u001b[43mfunc_graph\u001b[49m\u001b[43m,\u001b[49m\n\u001b[1;32m    317\u001b[0m \u001b[43m    \u001b[49m\u001b[43madd_control_dependencies\u001b[49m\u001b[38;5;241;43m=\u001b[39;49m\u001b[38;5;129;43;01mnot\u001b[39;49;00m\u001b[43m \u001b[49m\u001b[43mdisable_acd\u001b[49m\u001b[43m,\u001b[49m\n\u001b[1;32m    318\u001b[0m \u001b[43m    \u001b[49m\u001b[43marg_names\u001b[49m\u001b[38;5;241;43m=\u001b[39;49m\u001b[43mfunction_type_utils\u001b[49m\u001b[38;5;241;43m.\u001b[39;49m\u001b[43mto_arg_names\u001b[49m\u001b[43m(\u001b[49m\u001b[43mfunction_type\u001b[49m\u001b[43m)\u001b[49m\u001b[43m,\u001b[49m\n\u001b[1;32m    319\u001b[0m \u001b[43m    \u001b[49m\u001b[43mcreate_placeholders\u001b[49m\u001b[38;5;241;43m=\u001b[39;49m\u001b[38;5;28;43;01mFalse\u001b[39;49;00m\u001b[43m,\u001b[49m\n\u001b[1;32m    320\u001b[0m \u001b[43m\u001b[49m\u001b[43m)\u001b[49m\n\u001b[1;32m    322\u001b[0m transform\u001b[38;5;241m.\u001b[39mapply_func_graph_transforms(traced_func_graph)\n\u001b[1;32m    324\u001b[0m graph_capture_container \u001b[38;5;241m=\u001b[39m traced_func_graph\u001b[38;5;241m.\u001b[39mfunction_captures\n",
      "File \u001b[0;32m~/.local/share/virtualenvs/Deep_learning-ZjjgEFKy/lib/python3.11/site-packages/tensorflow/python/framework/func_graph.py:987\u001b[0m, in \u001b[0;36mfunc_graph_from_py_func\u001b[0;34m(name, python_func, args, kwargs, signature, func_graph, add_control_dependencies, arg_names, op_return_value, collections, capture_by_value, create_placeholders)\u001b[0m\n\u001b[1;32m    984\u001b[0m \u001b[38;5;28;01melse\u001b[39;00m:\n\u001b[1;32m    985\u001b[0m   deps_control_manager \u001b[38;5;241m=\u001b[39m ops\u001b[38;5;241m.\u001b[39mNullContextmanager()\n\u001b[0;32m--> 987\u001b[0m \u001b[43m\u001b[49m\u001b[38;5;28;43;01mwith\u001b[39;49;00m\u001b[43m \u001b[49m\u001b[43mfunc_graph\u001b[49m\u001b[38;5;241;43m.\u001b[39;49m\u001b[43mas_default\u001b[49m\u001b[43m(\u001b[49m\u001b[43m)\u001b[49m\u001b[43m,\u001b[49m\u001b[43m \u001b[49m\u001b[43mdeps_control_manager\u001b[49m\u001b[43m \u001b[49m\u001b[38;5;28;43;01mas\u001b[39;49;00m\u001b[43m \u001b[49m\u001b[43mdeps_ctx\u001b[49m\u001b[43m:\u001b[49m\n\u001b[1;32m    988\u001b[0m \u001b[43m  \u001b[49m\u001b[43mcurrent_scope\u001b[49m\u001b[43m \u001b[49m\u001b[38;5;241;43m=\u001b[39;49m\u001b[43m \u001b[49m\u001b[43mvariable_scope\u001b[49m\u001b[38;5;241;43m.\u001b[39;49m\u001b[43mget_variable_scope\u001b[49m\u001b[43m(\u001b[49m\u001b[43m)\u001b[49m\n\u001b[1;32m    989\u001b[0m \u001b[43m  \u001b[49m\u001b[43mdefault_use_resource\u001b[49m\u001b[43m \u001b[49m\u001b[38;5;241;43m=\u001b[39;49m\u001b[43m \u001b[49m\u001b[43mcurrent_scope\u001b[49m\u001b[38;5;241;43m.\u001b[39;49m\u001b[43muse_resource\u001b[49m\n",
      "File \u001b[0;32m~/.local/share/virtualenvs/Deep_learning-ZjjgEFKy/lib/python3.11/site-packages/tensorflow/python/framework/auto_control_deps.py:490\u001b[0m, in \u001b[0;36mAutomaticControlDependencies.__exit__\u001b[0;34m(self, unused_type, unused_value, unused_traceback)\u001b[0m\n\u001b[1;32m    487\u001b[0m     reads_since_last_write_to_resource[input_id] \u001b[38;5;241m=\u001b[39m []\n\u001b[1;32m    488\u001b[0m     last_write_to_resource[input_id] \u001b[38;5;241m=\u001b[39m op\n\u001b[0;32m--> 490\u001b[0m \u001b[38;5;28;01mif\u001b[39;00m (\u001b[43mop_is_stateful\u001b[49m\u001b[43m(\u001b[49m\u001b[43mop\u001b[49m\u001b[43m)\u001b[49m \u001b[38;5;129;01mand\u001b[39;00m \u001b[38;5;129;01mnot\u001b[39;00m resource_inputs\n\u001b[1;32m    491\u001b[0m     \u001b[38;5;129;01mand\u001b[39;00m op\u001b[38;5;241m.\u001b[39m_control_flow_context \u001b[38;5;129;01mis\u001b[39;00m \u001b[38;5;28;01mNone\u001b[39;00m):\n\u001b[1;32m    492\u001b[0m   \u001b[38;5;28;01mif\u001b[39;00m \u001b[38;5;28;01mNone\u001b[39;00m \u001b[38;5;129;01min\u001b[39;00m last_write_to_resource:\n\u001b[1;32m    493\u001b[0m     op\u001b[38;5;241m.\u001b[39m_add_control_input(last_write_to_resource[\u001b[38;5;28;01mNone\u001b[39;00m])\n",
      "File \u001b[0;32m~/.local/share/virtualenvs/Deep_learning-ZjjgEFKy/lib/python3.11/site-packages/tensorflow/python/framework/auto_control_deps.py:144\u001b[0m, in \u001b[0;36mop_is_stateful\u001b[0;34m(op)\u001b[0m\n\u001b[1;32m    128\u001b[0m \u001b[38;5;66;03m# LINT.ThenChange(//tensorflow/core/grappler/optimizers/function_optimizer.cc)\u001b[39;00m\n\u001b[1;32m    129\u001b[0m \n\u001b[1;32m    130\u001b[0m \u001b[38;5;66;03m# Op types that are marked as stateless, but should be allowlisted to add auto\u001b[39;00m\n\u001b[1;32m    131\u001b[0m \u001b[38;5;66;03m# control dependencies.\u001b[39;00m\n\u001b[1;32m    132\u001b[0m _ALLOWLIST_STATELESS_OPS \u001b[38;5;241m=\u001b[39m [\n\u001b[1;32m    133\u001b[0m     \u001b[38;5;66;03m# As TPU collective ops are blocking, if there are more than one collective\u001b[39;00m\n\u001b[1;32m    134\u001b[0m     \u001b[38;5;66;03m# op in the function, we need to make sure different collectives ops are\u001b[39;00m\n\u001b[0;32m   (...)\u001b[0m\n\u001b[1;32m    140\u001b[0m     \u001b[38;5;124m\"\u001b[39m\u001b[38;5;124mCollectivePermute\u001b[39m\u001b[38;5;124m\"\u001b[39m,\n\u001b[1;32m    141\u001b[0m ]\n\u001b[0;32m--> 144\u001b[0m \u001b[38;5;28;01mdef\u001b[39;00m \u001b[38;5;21mop_is_stateful\u001b[39m(op):\n\u001b[1;32m    145\u001b[0m   \u001b[38;5;66;03m# pylint: disable=protected-access\u001b[39;00m\n\u001b[1;32m    146\u001b[0m   ret \u001b[38;5;241m=\u001b[39m ((op\u001b[38;5;241m.\u001b[39m_is_stateful \u001b[38;5;129;01mand\u001b[39;00m\n\u001b[1;32m    147\u001b[0m           ((op\u001b[38;5;241m.\u001b[39mtype \u001b[38;5;129;01mnot\u001b[39;00m \u001b[38;5;129;01min\u001b[39;00m ASYNC_STATEFUL_OPS) \u001b[38;5;129;01mand\u001b[39;00m\n\u001b[1;32m    148\u001b[0m            (op\u001b[38;5;241m.\u001b[39mtype \u001b[38;5;129;01mnot\u001b[39;00m \u001b[38;5;129;01min\u001b[39;00m LEGACY_RANDOM_OPS) \u001b[38;5;129;01mand\u001b[39;00m\n\u001b[1;32m    149\u001b[0m            (op\u001b[38;5;241m.\u001b[39mtype \u001b[38;5;129;01mnot\u001b[39;00m \u001b[38;5;129;01min\u001b[39;00m SKIPPED_ORDER_INSENSITIVE_STATEFUL_OPS))) \u001b[38;5;129;01mor\u001b[39;00m\n\u001b[1;32m    150\u001b[0m          (op\u001b[38;5;241m.\u001b[39mtype \u001b[38;5;129;01min\u001b[39;00m _ALLOWLIST_STATELESS_OPS))\n\u001b[1;32m    151\u001b[0m   \u001b[38;5;28;01mreturn\u001b[39;00m ret\n",
      "\u001b[0;31mKeyboardInterrupt\u001b[0m: "
     ]
    }
   ],
   "source": [
    "benchmark_model.fit(train_images, train_labels, epochs=200, batch_size=256, verbose=1)"
   ]
  },
  {
   "cell_type": "code",
   "execution_count": 19,
   "id": "ad31c62b-eb7f-484a-8e2c-b70020a441b3",
   "metadata": {},
   "outputs": [
    {
     "name": "stdout",
     "output_type": "stream",
     "text": [
      "313/313 - 4s - loss: 1.8781 - accuracy: 0.5256 - 4s/epoch - 12ms/step\n",
      "Test Accuracy: 0.525600016117096\n"
     ]
    }
   ],
   "source": [
    "test_loss, test_acc = benchmark_model.evaluate(test_images, test_labels, verbose=2)\n",
    "print(f\"Test Accuracy: {test_acc}\")"
   ]
  },
  {
   "cell_type": "markdown",
   "id": "78b7a5ab-5de6-49b2-989a-da944a105370",
   "metadata": {},
   "source": [
    "# Task\n",
    "Do transfer learning on the different models you can find in the import. If you have other models you want to try, go ahead!\n",
    "\n",
    "The models should be trained on [CIFAR-100](https://www.cs.toronto.edu/~kriz/cifar.html) dataset.\n",
    "\n",
    "Use imagenet weights for the models (if it dosen't exist, use something else that is not cifar100).\n",
    "\n",
    "Do both fine tuning and feature extraction.\n",
    "\n",
    "- Which models can you get to beat the testscore of the benchmark model?\n",
    "- Which model can you get the highest accuracy on?\n"
   ]
  },
  {
   "cell_type": "code",
   "execution_count": 166,
   "id": "9caa8a42-d8d9-422f-a1e9-a0bef1a831bd",
   "metadata": {},
   "outputs": [],
   "source": [
    "(train_images_x, train_labels_y), (test_images_x, test_labels_y) = cifar100.load_data()\n",
    "train_images = tf.keras.applications.vgg16.preprocess_input(train_images_x)\n",
    "test_images = tf.keras.applications.vgg16.preprocess_input(test_images_x)\n",
    "train_labels = to_categorical(train_labels_y)\n",
    "test_labels = to_categorical(test_labels_y)"
   ]
  },
  {
   "cell_type": "code",
   "execution_count": 167,
   "id": "d586366a-c708-4b68-8cb4-7f383b8ab003",
   "metadata": {},
   "outputs": [],
   "source": [
    "# Load pre-trained VGG16 model without the top layer\n",
    "def create_vgg_feature_extraction_model():\n",
    "    base_model = VGG16(weights='imagenet', include_top=False, input_shape=(32, 32, 3))\n",
    "    # Freeze the base model\n",
    "    base_model.trainable = False\n",
    "    \n",
    "    # Create a new model on top\n",
    "    inputs = tf.keras.Input(shape=(32, 32, 3))\n",
    "    x = base_model(inputs)\n",
    "    x = Flatten()(x)\n",
    "    x = Dense(64, activation='relu')(x)\n",
    "    outputs = Dense(100, activation='softmax')(x)\n",
    "    model = Model(inputs, outputs)\n",
    "    \n",
    "    # Compile and train the model\n",
    "    model.compile(optimizer='adam', loss='categorical_crossentropy', metrics=['accuracy'])\n",
    "\n",
    "    return model"
   ]
  },
  {
   "cell_type": "code",
   "execution_count": 168,
   "id": "62edbf21-7a07-444b-bc9c-8c2aa5bc71a5",
   "metadata": {},
   "outputs": [],
   "source": [
    "model = create_vgg_feature_extraction_model()"
   ]
  },
  {
   "cell_type": "code",
   "execution_count": null,
   "id": "13ed74db-afe5-4f35-9864-d60e1a7551cd",
   "metadata": {},
   "outputs": [
    {
     "name": "stdout",
     "output_type": "stream",
     "text": [
      "Epoch 1/100\n",
      "1563/1563 [==============================] - 109s 69ms/step - loss: 4.1518 - accuracy: 0.1400\n",
      "Epoch 2/100\n",
      "1563/1563 [==============================] - 112s 72ms/step - loss: 2.9788 - accuracy: 0.2615\n",
      "Epoch 3/100\n",
      "1563/1563 [==============================] - 119s 76ms/step - loss: 2.7075 - accuracy: 0.3077\n",
      "Epoch 4/100\n",
      "1563/1563 [==============================] - 113s 72ms/step - loss: 2.5644 - accuracy: 0.3360\n",
      "Epoch 5/100\n",
      "1563/1563 [==============================] - 114s 73ms/step - loss: 2.4711 - accuracy: 0.3538\n",
      "Epoch 6/100\n",
      "1563/1563 [==============================] - 114s 73ms/step - loss: 2.3965 - accuracy: 0.3693\n",
      "Epoch 7/100\n",
      "1563/1563 [==============================] - 113s 73ms/step - loss: 2.3451 - accuracy: 0.3824\n",
      "Epoch 8/100\n",
      "1563/1563 [==============================] - 113s 72ms/step - loss: 2.3043 - accuracy: 0.3895\n",
      "Epoch 9/100\n",
      "1563/1563 [==============================] - 113s 73ms/step - loss: 2.2721 - accuracy: 0.3961\n",
      "Epoch 10/100\n",
      "1563/1563 [==============================] - 115s 74ms/step - loss: 2.2376 - accuracy: 0.4015\n",
      "Epoch 11/100\n",
      "1563/1563 [==============================] - 117s 75ms/step - loss: 2.2139 - accuracy: 0.4075\n",
      "Epoch 12/100\n",
      "1563/1563 [==============================] - 113s 72ms/step - loss: 2.1901 - accuracy: 0.4137\n",
      "Epoch 13/100\n",
      "1563/1563 [==============================] - 116s 74ms/step - loss: 2.1715 - accuracy: 0.4171\n",
      "Epoch 14/100\n",
      "1563/1563 [==============================] - 114s 73ms/step - loss: 2.1552 - accuracy: 0.4222\n",
      "Epoch 15/100\n",
      "1563/1563 [==============================] - 114s 73ms/step - loss: 2.1343 - accuracy: 0.4243\n",
      "Epoch 16/100\n",
      "1563/1563 [==============================] - 116s 74ms/step - loss: 2.1199 - accuracy: 0.4267\n",
      "Epoch 17/100\n",
      "1563/1563 [==============================] - 113s 72ms/step - loss: 2.1074 - accuracy: 0.4330\n",
      "Epoch 18/100\n",
      "1563/1563 [==============================] - 117s 75ms/step - loss: 2.0951 - accuracy: 0.4331\n",
      "Epoch 19/100\n",
      "1563/1563 [==============================] - 119s 76ms/step - loss: 2.0854 - accuracy: 0.4346\n",
      "Epoch 20/100\n",
      "1563/1563 [==============================] - 120s 77ms/step - loss: 2.0730 - accuracy: 0.4394\n",
      "Epoch 21/100\n",
      "1563/1563 [==============================] - 123s 79ms/step - loss: 2.0638 - accuracy: 0.4390\n",
      "Epoch 22/100\n",
      "1563/1563 [==============================] - 136s 87ms/step - loss: 2.0555 - accuracy: 0.4442\n",
      "Epoch 23/100\n",
      "1563/1563 [==============================] - 125s 80ms/step - loss: 2.0472 - accuracy: 0.4441\n",
      "Epoch 24/100\n",
      "1563/1563 [==============================] - 120s 77ms/step - loss: 2.0417 - accuracy: 0.4441\n",
      "Epoch 25/100\n",
      "1563/1563 [==============================] - 117s 75ms/step - loss: 2.0309 - accuracy: 0.4457\n",
      "Epoch 26/100\n",
      "1563/1563 [==============================] - 121s 78ms/step - loss: 2.0278 - accuracy: 0.4478\n",
      "Epoch 27/100\n",
      "1563/1563 [==============================] - 120s 77ms/step - loss: 2.0237 - accuracy: 0.4511\n",
      "Epoch 28/100\n",
      "1563/1563 [==============================] - 121s 78ms/step - loss: 2.0175 - accuracy: 0.4498\n",
      "Epoch 29/100\n",
      "1563/1563 [==============================] - 117s 75ms/step - loss: 2.0145 - accuracy: 0.4533\n",
      "Epoch 30/100\n",
      "1563/1563 [==============================] - 125s 80ms/step - loss: 2.0033 - accuracy: 0.4539\n",
      "Epoch 31/100\n",
      "1563/1563 [==============================] - 121s 77ms/step - loss: 2.0079 - accuracy: 0.4536\n",
      "Epoch 32/100\n",
      "1563/1563 [==============================] - 126s 81ms/step - loss: 1.9979 - accuracy: 0.4542\n",
      "Epoch 33/100\n",
      "1563/1563 [==============================] - 121s 77ms/step - loss: 1.9932 - accuracy: 0.4579\n",
      "Epoch 34/100\n",
      "1563/1563 [==============================] - 116s 74ms/step - loss: 1.9835 - accuracy: 0.4580\n",
      "Epoch 35/100\n",
      "1563/1563 [==============================] - 114s 73ms/step - loss: 1.9844 - accuracy: 0.4579\n",
      "Epoch 36/100\n",
      "1563/1563 [==============================] - 120s 77ms/step - loss: 1.9825 - accuracy: 0.4583\n",
      "Epoch 37/100\n",
      "1563/1563 [==============================] - 178721s 114s/step - loss: 1.9718 - accuracy: 0.4608\n",
      "Epoch 38/100\n",
      " 108/1563 [=>............................] - ETA: 1:30 - loss: 1.8615 - accuracy: 0.4884"
     ]
    }
   ],
   "source": [
    "model.fit(train_images, train_labels, epochs=100)"
   ]
  },
  {
   "cell_type": "code",
   "execution_count": null,
   "id": "df94bf38-d5d4-4a98-9e32-37aafd02ee51",
   "metadata": {},
   "outputs": [],
   "source": []
  }
 ],
 "metadata": {
  "kernelspec": {
   "display_name": "Deep_learning-ZjjgEFKy",
   "language": "python",
   "name": "python3"
  },
  "language_info": {
   "codemirror_mode": {
    "name": "ipython",
    "version": 3
   },
   "file_extension": ".py",
   "mimetype": "text/x-python",
   "name": "python",
   "nbconvert_exporter": "python",
   "pygments_lexer": "ipython3",
   "version": "3.11.4"
  }
 },
 "nbformat": 4,
 "nbformat_minor": 5
}
