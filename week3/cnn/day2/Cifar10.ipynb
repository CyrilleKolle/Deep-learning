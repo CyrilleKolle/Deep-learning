{
 "cells": [
  {
   "cell_type": "markdown",
   "id": "7ab8e807-1c5d-4ac9-b570-5fdedd14981b",
   "metadata": {},
   "source": [
    "# Training a network on the CIFAR10 dataset"
   ]
  },
  {
   "cell_type": "markdown",
   "id": "871158de-b4ed-4502-9043-6d8dc737d1b8",
   "metadata": {},
   "source": [
    "We'll train a custom network on the cifar10 dataset. CIFAR10 is a dataset of images categorized into 10 categories. Goal of the network is to classify the images into the correct category."
   ]
  },
  {
   "cell_type": "markdown",
   "id": "88f4f230-e16e-420c-b614-865a28cf4ce1",
   "metadata": {},
   "source": [
    "Let's start with loading any libraries you need."
   ]
  },
  {
   "cell_type": "code",
   "execution_count": 3,
   "id": "d20bef78-771d-4c9a-9c22-95e983b4a3e3",
   "metadata": {},
   "outputs": [
    {
     "name": "stderr",
     "output_type": "stream",
     "text": [
      "2023-12-07 20:41:01.782614: I tensorflow/core/platform/cpu_feature_guard.cc:182] This TensorFlow binary is optimized to use available CPU instructions in performance-critical operations.\n",
      "To enable the following instructions: AVX2 FMA, in other operations, rebuild TensorFlow with the appropriate compiler flags.\n"
     ]
    }
   ],
   "source": [
    "# Load libraries you need here\n",
    "import tensorflow as tf\n",
    "from tensorflow.keras.datasets import cifar10\n",
    "import matplotlib.pyplot as plt\n"
   ]
  },
  {
   "cell_type": "markdown",
   "id": "27a4f817-3f2f-4368-a11d-1787ad82529d",
   "metadata": {},
   "source": [
    "Load the data from the CIFAR10. The CIFAR-10 dataset contains 60,000 32x32 color images in 10 classes.\n",
    "Info can be found in the documentation: https://www.tensorflow.org/api_docs/python/tf/keras/datasets/cifar10/load_data"
   ]
  },
  {
   "cell_type": "code",
   "execution_count": 4,
   "id": "b5079422-8611-4252-baff-bd93370a66ba",
   "metadata": {},
   "outputs": [],
   "source": [
    "(x_train, y_train), (x_test, y_test) = tf.keras.datasets.cifar10.load_data()\n",
    "# Use a portion of the training data as validation data. Do you need to do any preprocessing?"
   ]
  },
  {
   "cell_type": "code",
   "execution_count": 5,
   "metadata": {},
   "outputs": [
    {
     "data": {
      "text/plain": [
       "(False, False)"
      ]
     },
     "execution_count": 5,
     "metadata": {},
     "output_type": "execute_result"
    }
   ],
   "source": [
    "import numpy as np\n",
    "\n",
    "np.isnan(x_train).any(),np.isnan(x_test).any()"
   ]
  },
  {
   "cell_type": "code",
   "execution_count": 6,
   "metadata": {},
   "outputs": [
    {
     "name": "stdout",
     "output_type": "stream",
     "text": [
      "(32, 32, 3)\n"
     ]
    }
   ],
   "source": [
    "input_shape = x_train.shape[1:]\n",
    "print(input_shape)"
   ]
  },
  {
   "cell_type": "code",
   "execution_count": 7,
   "metadata": {},
   "outputs": [],
   "source": [
    "x_train=x_train.reshape(x_train.shape[0], x_train.shape[1], x_train.shape[2], 3)\n",
    "x_train=x_train / 255.0\n",
    "x_test = x_test.reshape(x_test.shape[0], x_test.shape[1], x_test.shape[2], 3)\n",
    "x_test=x_test / 255.0"
   ]
  },
  {
   "cell_type": "code",
   "execution_count": 17,
   "metadata": {},
   "outputs": [
    {
     "data": {
      "text/plain": [
       "((40000, 32, 32, 3), (40000, 10))"
      ]
     },
     "execution_count": 17,
     "metadata": {},
     "output_type": "execute_result"
    }
   ],
   "source": [
    "x_train.shape, y_train.shape"
   ]
  },
  {
   "cell_type": "code",
   "execution_count": 9,
   "metadata": {},
   "outputs": [],
   "source": [
    "from tensorflow.keras.utils import to_categorical\n",
    "y_train = tf.keras.utils.to_categorical(y_train, 10)\n",
    "y_test = tf.keras.utils.to_categorical(y_test, 10)"
   ]
  },
  {
   "cell_type": "code",
   "execution_count": 10,
   "metadata": {},
   "outputs": [
    {
     "data": {
      "text/plain": [
       "array([0., 0., 0., 0., 0., 0., 1., 0., 0., 0.], dtype=float32)"
      ]
     },
     "execution_count": 10,
     "metadata": {},
     "output_type": "execute_result"
    }
   ],
   "source": [
    "y_train[0]"
   ]
  },
  {
   "cell_type": "markdown",
   "id": "be68dcda-adb9-4cbf-8f23-c39b4deae925",
   "metadata": {},
   "source": [
    "Create your model using conv2D layers, some type of pooling and finish with a dense network."
   ]
  },
  {
   "cell_type": "code",
   "execution_count": 11,
   "id": "8a3efe32-d1ed-42b7-99ff-dfde67538989",
   "metadata": {},
   "outputs": [],
   "source": [
    "model = tf.keras.Sequential()\n",
    "model.add(\n",
    "    tf.keras.layers.Conv2D(\n",
    "        32, (3, 3), activation=\"relu\", input_shape=(32, 32, 3), padding=\"same\"\n",
    "    )\n",
    ")\n",
    "model.add(tf.keras.layers.Conv2D(32, (3, 3), activation=\"relu\"))\n",
    "model.add(tf.keras.layers.MaxPooling2D((2, 2)))\n",
    "model.add(tf.keras.layers.Dropout(0.2))\n",
    "\n",
    "model.add(tf.keras.layers.Conv2D(64, (3, 3), activation=\"relu\", padding=\"same\"))\n",
    "model.add(tf.keras.layers.Conv2D(64, (3, 3), activation=\"relu\"))\n",
    "model.add(tf.keras.layers.MaxPooling2D((2, 2)))\n",
    "model.add(tf.keras.layers.Dropout(0.2))\n",
    "\n",
    "model.add(tf.keras.layers.Flatten())\n",
    "model.add(tf.keras.layers.Dense(128, activation=\"relu\"))\n",
    "model.add(tf.keras.layers.Dropout(0.2))\n",
    "\n",
    "model.add(tf.keras.layers.Dense(10, activation=\"softmax\"))\n",
    "model.compile(optimizer=\"Adam\", loss=\"categorical_crossentropy\", metrics=[\"accuracy\"])"
   ]
  },
  {
   "cell_type": "markdown",
   "id": "bc5b6359-3bc8-4080-9cc5-c82531e4c565",
   "metadata": {},
   "source": [
    "Train your model. Since the dataset is so big not a lot of epochs should be needed to start seeing results."
   ]
  },
  {
   "cell_type": "code",
   "execution_count": 12,
   "metadata": {},
   "outputs": [],
   "source": [
    "train_data_size = int(len(x_train) * 0.8)\n",
    "x_train, x_val = x_train[:train_data_size], x_train[train_data_size:]\n",
    "y_train, y_val = y_train[:train_data_size], y_train[train_data_size:]"
   ]
  },
  {
   "cell_type": "code",
   "execution_count": 13,
   "metadata": {},
   "outputs": [
    {
     "data": {
      "text/plain": [
       "((40000, 32, 32, 3), (40000, 10), (10000, 32, 32, 3), (10000, 10))"
      ]
     },
     "execution_count": 13,
     "metadata": {},
     "output_type": "execute_result"
    }
   ],
   "source": [
    "x_train.shape, y_train.shape, x_val.shape, y_val.shape"
   ]
  },
  {
   "cell_type": "code",
   "execution_count": 14,
   "metadata": {},
   "outputs": [
    {
     "data": {
      "text/plain": [
       "(numpy.ndarray, numpy.ndarray, numpy.ndarray, numpy.ndarray)"
      ]
     },
     "execution_count": 14,
     "metadata": {},
     "output_type": "execute_result"
    }
   ],
   "source": [
    "type(x_train), type(y_train), type(x_val), type(y_val)"
   ]
  },
  {
   "cell_type": "code",
   "execution_count": 16,
   "metadata": {},
   "outputs": [
    {
     "data": {
      "text/plain": [
       "array([0., 0., 0., 0., 0., 0., 1., 0., 0., 0.], dtype=float32)"
      ]
     },
     "execution_count": 16,
     "metadata": {},
     "output_type": "execute_result"
    }
   ],
   "source": [
    "y_train[0]"
   ]
  },
  {
   "cell_type": "code",
   "execution_count": 15,
   "metadata": {},
   "outputs": [
    {
     "ename": "NameError",
     "evalue": "name 'asd' is not defined",
     "output_type": "error",
     "traceback": [
      "\u001b[0;31m---------------------------------------------------------------------------\u001b[0m",
      "\u001b[0;31mNameError\u001b[0m                                 Traceback (most recent call last)",
      "\u001b[1;32m/Users/Cyrille/Documents/aiml22/Deep learning/week3/cnn/day2/Cifar10.ipynb Cell 19\u001b[0m line \u001b[0;36m1\n\u001b[0;32m----> <a href='vscode-notebook-cell:/Users/Cyrille/Documents/aiml22/Deep%20learning/week3/cnn/day2/Cifar10.ipynb#X50sZmlsZQ%3D%3D?line=0'>1</a>\u001b[0m asd\n",
      "\u001b[0;31mNameError\u001b[0m: name 'asd' is not defined"
     ]
    }
   ],
   "source": [
    "asd"
   ]
  },
  {
   "cell_type": "code",
   "execution_count": null,
   "id": "23c23e38-2942-4ae6-ba18-a662ea4ac75d",
   "metadata": {},
   "outputs": [
    {
     "name": "stdout",
     "output_type": "stream",
     "text": [
      "Epoch 1/10\n",
      "1250/1250 [==============================] - 106s 85ms/step - loss: 1.3973 - accuracy: 0.4920 - val_loss: 1.1263 - val_accuracy: 0.6023\n",
      "Epoch 2/10\n",
      "1250/1250 [==============================] - 105s 84ms/step - loss: 1.1041 - accuracy: 0.6107 - val_loss: 0.9801 - val_accuracy: 0.6591\n",
      "Epoch 3/10\n",
      "1250/1250 [==============================] - 108s 87ms/step - loss: 0.9707 - accuracy: 0.6592 - val_loss: 0.8549 - val_accuracy: 0.6999\n",
      "Epoch 4/10\n",
      "1250/1250 [==============================] - 111s 89ms/step - loss: 0.8731 - accuracy: 0.6937 - val_loss: 0.8675 - val_accuracy: 0.6966\n",
      "Epoch 5/10\n",
      "1250/1250 [==============================] - 105s 84ms/step - loss: 0.8142 - accuracy: 0.7119 - val_loss: 0.8076 - val_accuracy: 0.7194\n",
      "Epoch 6/10\n",
      "1250/1250 [==============================] - 105s 84ms/step - loss: 0.7604 - accuracy: 0.7327 - val_loss: 0.7985 - val_accuracy: 0.7280\n",
      "Epoch 7/10\n",
      "1250/1250 [==============================] - 105s 84ms/step - loss: 0.7191 - accuracy: 0.7456 - val_loss: 0.7416 - val_accuracy: 0.7434\n",
      "Epoch 8/10\n",
      "1250/1250 [==============================] - 106s 85ms/step - loss: 0.6864 - accuracy: 0.7551 - val_loss: 0.7353 - val_accuracy: 0.7491\n",
      "Epoch 9/10\n",
      "1250/1250 [==============================] - 103s 82ms/step - loss: 0.6539 - accuracy: 0.7674 - val_loss: 0.7300 - val_accuracy: 0.7458\n",
      "Epoch 10/10\n",
      "1250/1250 [==============================] - 106s 85ms/step - loss: 0.6204 - accuracy: 0.7753 - val_loss: 0.6991 - val_accuracy: 0.7603\n"
     ]
    }
   ],
   "source": [
    "history = model.fit(x_train, y_train, epochs=10, validation_data=(x_val, y_val))\n"
   ]
  },
  {
   "cell_type": "code",
   "execution_count": null,
   "metadata": {},
   "outputs": [
    {
     "name": "stdout",
     "output_type": "stream",
     "text": [
      "dict_keys(['loss', 'accuracy', 'val_loss', 'val_accuracy'])\n"
     ]
    }
   ],
   "source": [
    "history_dict = history.history\n",
    "print(history_dict.keys())"
   ]
  },
  {
   "cell_type": "code",
   "execution_count": null,
   "metadata": {},
   "outputs": [],
   "source": [
    "loss, accuracy, val_loss, val_accuracy = history_dict['loss'], history_dict['accuracy'], history_dict['val_loss'], history_dict['val_accuracy']"
   ]
  },
  {
   "cell_type": "code",
   "execution_count": null,
   "metadata": {},
   "outputs": [
    {
     "name": "stdout",
     "output_type": "stream",
     "text": [
      "loss:  [1.3972558975219727, 1.1041048765182495, 0.9706602692604065, 0.8730636835098267, 0.8141505122184753, 0.7604236602783203, 0.7191241979598999, 0.6864455342292786, 0.6538566946983337, 0.6203975081443787] \n",
      "accuracy:  [0.4920499920845032, 0.6106500029563904, 0.6591500043869019, 0.6937000155448914, 0.711899995803833, 0.7327499985694885, 0.7455750107765198, 0.7551249861717224, 0.7673749923706055, 0.7752500176429749] \n",
      "val_loss:  [1.1263461112976074, 0.9801185727119446, 0.8549290895462036, 0.8675236105918884, 0.8075751662254333, 0.7984543442726135, 0.7416073083877563, 0.735313892364502, 0.7299878597259521, 0.6991399526596069] \n",
      "val_accuracy:  [0.6022999882698059, 0.6590999960899353, 0.6998999714851379, 0.6966000199317932, 0.7193999886512756, 0.7279999852180481, 0.743399977684021, 0.7491000294685364, 0.7458000183105469, 0.7602999806404114]\n"
     ]
    }
   ],
   "source": [
    "print('loss: ', loss, '\\naccuracy: ', accuracy, '\\nval_loss: ', val_loss, '\\nval_accuracy: ', val_accuracy)"
   ]
  },
  {
   "cell_type": "markdown",
   "id": "34ff3355-176f-438c-b467-85cf862b8482",
   "metadata": {},
   "source": [
    "Visualize the model performance"
   ]
  },
  {
   "cell_type": "code",
   "execution_count": null,
   "id": "96125902-bd6a-47fc-813c-099d49e60476",
   "metadata": {},
   "outputs": [
    {
     "data": {
      "image/png": "[encoded data removed]",
      "text/plain": [
       "<Figure size 1200x400 with 2 Axes>"
      ]
     },
     "metadata": {},
     "output_type": "display_data"
    }
   ],
   "source": [
    "plt.figure(figsize=(12, 4))\n",
    "plt.subplot(1, 2, 1)\n",
    "plt.plot(history.history['accuracy'], label='Training Accuracy')\n",
    "plt.plot(history.history['val_accuracy'], label='Validation Accuracy')\n",
    "plt.title('Accuracy over Epochs')\n",
    "plt.xlabel('Epoch')\n",
    "plt.ylabel('Accuracy')\n",
    "plt.legend()\n",
    "\n",
    "plt.subplot(1, 2, 2)\n",
    "plt.plot(history.history['loss'], label='Training Loss')\n",
    "plt.plot(history.history['val_loss'], label='Validation Loss')\n",
    "plt.title('Loss over Epochs')\n",
    "plt.xlabel('Epoch')\n",
    "plt.ylabel('Loss')\n",
    "plt.legend()\n",
    "\n",
    "plt.show()\n"
   ]
  },
  {
   "cell_type": "markdown",
   "id": "6cda7ca3-26fc-4314-9ffe-46235642e2fc",
   "metadata": {},
   "source": [
    "Evaluate on the test set"
   ]
  },
  {
   "cell_type": "code",
   "execution_count": null,
   "id": "8761dbc6-8cff-48ba-8de2-709f21a35ab8",
   "metadata": {},
   "outputs": [
    {
     "name": "stdout",
     "output_type": "stream",
     "text": [
      "313/313 - 3s - loss: 0.7214 - accuracy: 0.7547 - 3s/epoch - 9ms/step\n"
     ]
    }
   ],
   "source": [
    "test_loss, test_accuracy = model.evaluate(x_test, y_test, verbose=2)\n",
    "\n",
    "# prints and plots you might need to evaluate.\n"
   ]
  },
  {
   "cell_type": "markdown",
   "id": "433a1e30-4bb6-4975-a74a-d9a04fbab465",
   "metadata": {},
   "source": [
    "# Excercise\n",
    "Experiment with different architectures and try to find a model that performs well."
   ]
  },
  {
   "cell_type": "code",
   "execution_count": null,
   "id": "154e88fc-2c28-4903-80aa-b299321204ab",
   "metadata": {},
   "outputs": [],
   "source": [
    "# advanced model with hyperparameter tuning\n",
    "def create_model(\n",
    "    filters=32,\n",
    "    kernel_size=(3, 3),\n",
    "    conv_strides=1,\n",
    "    padding=\"same\",\n",
    "    activation=\"relu\",\n",
    "    dropout_rate=0.2,\n",
    "    kernel_initializer=\"he_uniform\",\n",
    "    bias_initializer=\"zeros\",\n",
    "    kernel_regularizer=tf.keras.regularizers.l2(0.001),\n",
    "    bias_regularizer=tf.keras.regularizers.l2(0.001),\n",
    "    activity_regularizer=tf.keras.regularizers.l2(0.001),\n",
    "    kernel_constraint=tf.keras.constraints.MaxNorm(3),\n",
    "    bias_constraint=tf.keras.constraints.MaxNorm(3),\n",
    "    pool_size=(2, 2),\n",
    "    pool_strides=2,\n",
    "    pool_padding=\"valid\",\n",
    "    dense_filters=128,\n",
    "    optimizer=\"Adam\",\n",
    "    loss=\"categorical_crossentropy\",\n",
    "    accuracy=\"accuracy\",\n",
    "):\n",
    "    model = tf.keras.Sequential()\n",
    "\n",
    "    # First block\n",
    "    model.add(\n",
    "        tf.keras.layers.Conv2D(\n",
    "            filters=filters,\n",
    "            strides=conv_strides,\n",
    "            kernel_size=kernel_size,\n",
    "            activation=activation,\n",
    "            input_shape=(32, 32, 3),\n",
    "            padding=padding,\n",
    "            kernel_initializer=kernel_initializer,\n",
    "            bias_initializer=bias_initializer,\n",
    "            kernel_regularizer=kernel_regularizer,\n",
    "            bias_regularizer=bias_regularizer,\n",
    "            activity_regularizer=activity_regularizer,\n",
    "            kernel_constraint=kernel_constraint,\n",
    "            bias_constraint=bias_constraint,\n",
    "        )\n",
    "    )\n",
    "    model.add(\n",
    "        tf.keras.layers.MaxPooling2D(\n",
    "            pool_size=pool_size,\n",
    "            strides=pool_strides,\n",
    "            padding=pool_padding,\n",
    "            data_format=None,\n",
    "        )\n",
    "    )\n",
    "    model.add(tf.keras.layers.Dropout(dropout_rate))\n",
    "\n",
    "    # Second block\n",
    "    model.add(\n",
    "        tf.keras.layers.Conv2D(\n",
    "            filters=filters,\n",
    "            strides=conv_strides,\n",
    "            kernel_size=kernel_size,\n",
    "            activation=activation,\n",
    "            padding=padding,\n",
    "            kernel_initializer=kernel_initializer,\n",
    "            bias_initializer=bias_initializer,\n",
    "            kernel_regularizer=kernel_regularizer,\n",
    "            bias_regularizer=bias_regularizer,\n",
    "            activity_regularizer=activity_regularizer,\n",
    "            kernel_constraint=kernel_constraint,\n",
    "            bias_constraint=bias_constraint,\n",
    "        )\n",
    "    )\n",
    "    model.add(\n",
    "        tf.keras.layers.MaxPooling2D(\n",
    "            pool_size=pool_size,\n",
    "            strides=pool_strides,\n",
    "            padding=pool_padding,\n",
    "            data_format=None,\n",
    "        )\n",
    "    )\n",
    "    model.add(tf.keras.layers.Dropout(dropout_rate))\n",
    "\n",
    "    # Dense layers\n",
    "    model.add(tf.keras.layers.Flatten())\n",
    "    model.add(tf.keras.layers.Dense(dense_filters, activation=activation))\n",
    "    model.add(tf.keras.layers.Dropout(dropout_rate))\n",
    "\n",
    "    model.add(tf.keras.layers.Dense(dense_filters, activation=activation))\n",
    "    model.add(tf.keras.layers.Dropout(dropout_rate))\n",
    "    model.add(tf.keras.layers.Dense(10, activation=\"softmax\"))\n",
    "\n",
    "    # Compile the model\n",
    "    model.compile(optimizer=optimizer, loss=loss, metrics=accuracy)\n",
    "\n",
    "    return model"
   ]
  },
  {
   "cell_type": "code",
   "execution_count": null,
   "metadata": {},
   "outputs": [],
   "source": [
    "from sklearn.model_selection import GridSearchCV\n",
    "from scikeras.wrappers import KerasClassifier"
   ]
  },
  {
   "cell_type": "code",
   "execution_count": null,
   "metadata": {},
   "outputs": [],
   "source": [
    "model_to_tune = KerasClassifier(\n",
    "    build_fn=create_model,\n",
    "    verbose=1,\n",
    "    epochs=10,\n",
    "    batch_size=32,\n",
    "    validation_split=0.2,\n",
    "    filters=32,\n",
    "    kernel_size=(3, 3),\n",
    "    conv_strides=1,\n",
    "    padding=\"same\",\n",
    "    activation=\"relu\",\n",
    "    dropout_rate=0.2,\n",
    "    kernel_initializer=\"he_uniform\",\n",
    "    bias_initializer=\"zeros\",\n",
    "    kernel_regularizer=tf.keras.regularizers.l2(0.001),\n",
    "    bias_regularizer=tf.keras.regularizers.l2(0.001),\n",
    "    activity_regularizer=tf.keras.regularizers.l2(0.001),\n",
    "    kernel_constraint=tf.keras.constraints.MaxNorm(3),\n",
    "    bias_constraint=tf.keras.constraints.MaxNorm(3),\n",
    "    pool_size=(2, 2),\n",
    "    pool_strides=2,\n",
    "    pool_padding=\"valid\",\n",
    "    dense_filters=128,\n",
    "    optimizer=\"Adam\",\n",
    "    loss=\"categorical_crossentropy\",\n",
    "    accuracy=\"accuracy\",\n",
    ")"
   ]
  },
  {
   "cell_type": "code",
   "execution_count": null,
   "metadata": {},
   "outputs": [],
   "source": [
    "param_grid = {\n",
    "    \"filters\": [32, 64, 128, 256, 512],\n",
    "    \"kernel_size\": [(3, 3), (5, 5), (7, 7)],\n",
    "    \"conv_strides\": [1, 2],\n",
    "    \"padding\": [\"same\", \"valid\"],\n",
    "    \"activation\": [\"relu\", \"sigmoid\", \"tanh\"],\n",
    "    \"dropout_rate\": [0.2, 0.3, 0.4],\n",
    "    \"kernel_initializer\": [\"he_uniform\", \"he_normal\"],\n",
    "    \"bias_initializer\": [\"zeros\", \"ones\"],\n",
    "    \"kernel_regularizer\": [tf.keras.regularizers.l2(0.001),tf.keras.regularizers.l2(0.01), None],\n",
    "    \"bias_regularizer\": [tf.keras.regularizers.l2(0.001),tf.keras.regularizers.l2(0.01), None],\n",
    "    \"activity_regularizer\": [tf.keras.regularizers.l2(0.001),tf.keras.regularizers.l2(0.01), None],\n",
    "    \"kernel_constraint\": [tf.keras.constraints.MaxNorm(3), tf.keras.constraints.MaxNorm(2), None],\n",
    "    \"pool_size\": [(2, 2), (3, 3)],\n",
    "    \"pool_strides\": [1, 2],\n",
    "    \"pool_padding\": [\"same\", \"valid\"],\n",
    "    \"dense_filters\": [128, 256, 512],\n",
    "    \"optimizer\": [\"Adam\", \"SGD\"],\n",
    "    \"loss\": [\"categorical_crossentropy\"],\n",
    "    \"accuracy\": [\"accuracy\"],\n",
    "}"
   ]
  },
  {
   "cell_type": "code",
   "execution_count": null,
   "metadata": {},
   "outputs": [],
   "source": [
    "grid = GridSearchCV(estimator=model_to_tune, param_grid=param_grid, n_jobs=-1, cv=3)"
   ]
  },
  {
   "cell_type": "code",
   "execution_count": null,
   "metadata": {},
   "outputs": [
    {
     "name": "stderr",
     "output_type": "stream",
     "text": [
      "python(73101) MallocStackLogging: can't turn off malloc stack logging because it was not enabled.\n",
      "python(73118) MallocStackLogging: can't turn off malloc stack logging because it was not enabled.\n",
      "python(73119) MallocStackLogging: can't turn off malloc stack logging because it was not enabled.\n",
      "python(73120) MallocStackLogging: can't turn off malloc stack logging because it was not enabled.\n",
      "python(73121) MallocStackLogging: can't turn off malloc stack logging because it was not enabled.\n",
      "python(73122) MallocStackLogging: can't turn off malloc stack logging because it was not enabled.\n",
      "python(73123) MallocStackLogging: can't turn off malloc stack logging because it was not enabled.\n",
      "python(73124) MallocStackLogging: can't turn off malloc stack logging because it was not enabled.\n",
      "python(73125) MallocStackLogging: can't turn off malloc stack logging because it was not enabled.\n",
      "python(73126) MallocStackLogging: can't turn off malloc stack logging because it was not enabled.\n",
      "python(73127) MallocStackLogging: can't turn off malloc stack logging because it was not enabled.\n",
      "python(73128) MallocStackLogging: can't turn off malloc stack logging because it was not enabled.\n",
      "python(73129) MallocStackLogging: can't turn off malloc stack logging because it was not enabled.\n",
      "python(73130) MallocStackLogging: can't turn off malloc stack logging because it was not enabled.\n",
      "python(73131) MallocStackLogging: can't turn off malloc stack logging because it was not enabled.\n",
      "python(73132) MallocStackLogging: can't turn off malloc stack logging because it was not enabled.\n",
      "python(73133) MallocStackLogging: can't turn off malloc stack logging because it was not enabled.\n",
      "python(73134) MallocStackLogging: can't turn off malloc stack logging because it was not enabled.\n",
      "2023-12-07 11:28:06.381098: I tensorflow/core/platform/cpu_feature_guard.cc:182] This TensorFlow binary is optimized to use available CPU instructions in performance-critical operations.\n",
      "To enable the following instructions: AVX2 FMA, in other operations, rebuild TensorFlow with the appropriate compiler flags.\n",
      "2023-12-07 11:28:06.381103: I tensorflow/core/platform/cpu_feature_guard.cc:182] This TensorFlow binary is optimized to use available CPU instructions in performance-critical operations.\n",
      "To enable the following instructions: AVX2 FMA, in other operations, rebuild TensorFlow with the appropriate compiler flags.\n",
      "2023-12-07 11:28:06.381104: I tensorflow/core/platform/cpu_feature_guard.cc:182] This TensorFlow binary is optimized to use available CPU instructions in performance-critical operations.\n",
      "To enable the following instructions: AVX2 FMA, in other operations, rebuild TensorFlow with the appropriate compiler flags.\n",
      "2023-12-07 11:28:06.381118: I tensorflow/core/platform/cpu_feature_guard.cc:182] This TensorFlow binary is optimized to use available CPU instructions in performance-critical operations.\n",
      "To enable the following instructions: AVX2 FMA, in other operations, rebuild TensorFlow with the appropriate compiler flags.\n",
      "2023-12-07 11:28:06.381106: I tensorflow/core/platform/cpu_feature_guard.cc:182] This TensorFlow binary is optimized to use available CPU instructions in performance-critical operations.\n",
      "To enable the following instructions: AVX2 FMA, in other operations, rebuild TensorFlow with the appropriate compiler flags.\n",
      "2023-12-07 11:28:06.381117: I tensorflow/core/platform/cpu_feature_guard.cc:182] This TensorFlow binary is optimized to use available CPU instructions in performance-critical operations.\n",
      "To enable the following instructions: AVX2 FMA, in other operations, rebuild TensorFlow with the appropriate compiler flags.\n",
      "2023-12-07 11:28:06.381094: I tensorflow/core/platform/cpu_feature_guard.cc:182] This TensorFlow binary is optimized to use available CPU instructions in performance-critical operations.\n",
      "To enable the following instructions: AVX2 FMA, in other operations, rebuild TensorFlow with the appropriate compiler flags.\n",
      "2023-12-07 11:28:06.381115: I tensorflow/core/platform/cpu_feature_guard.cc:182] This TensorFlow binary is optimized to use available CPU instructions in performance-critical operations.\n",
      "To enable the following instructions: AVX2 FMA, in other operations, rebuild TensorFlow with the appropriate compiler flags.\n",
      "2023-12-07 11:28:06.381127: I tensorflow/core/platform/cpu_feature_guard.cc:182] This TensorFlow binary is optimized to use available CPU instructions in performance-critical operations.\n",
      "To enable the following instructions: AVX2 FMA, in other operations, rebuild TensorFlow with the appropriate compiler flags.\n",
      "2023-12-07 11:28:06.381107: I tensorflow/core/platform/cpu_feature_guard.cc:182] This TensorFlow binary is optimized to use available CPU instructions in performance-critical operations.\n",
      "To enable the following instructions: AVX2 FMA, in other operations, rebuild TensorFlow with the appropriate compiler flags.\n",
      "2023-12-07 11:28:06.381107: I tensorflow/core/platform/cpu_feature_guard.cc:182] This TensorFlow binary is optimized to use available CPU instructions in performance-critical operations.\n",
      "To enable the following instructions: AVX2 FMA, in other operations, rebuild TensorFlow with the appropriate compiler flags.\n",
      "2023-12-07 11:28:06.381116: I tensorflow/core/platform/cpu_feature_guard.cc:182] This TensorFlow binary is optimized to use available CPU instructions in performance-critical operations.\n",
      "To enable the following instructions: AVX2 FMA, in other operations, rebuild TensorFlow with the appropriate compiler flags.\n",
      "2023-12-07 11:28:06.381109: I tensorflow/core/platform/cpu_feature_guard.cc:182] This TensorFlow binary is optimized to use available CPU instructions in performance-critical operations.\n",
      "To enable the following instructions: AVX2 FMA, in other operations, rebuild TensorFlow with the appropriate compiler flags.\n",
      "2023-12-07 11:28:06.381112: I tensorflow/core/platform/cpu_feature_guard.cc:182] This TensorFlow binary is optimized to use available CPU instructions in performance-critical operations.\n",
      "To enable the following instructions: AVX2 FMA, in other operations, rebuild TensorFlow with the appropriate compiler flags.\n",
      "2023-12-07 11:28:06.381107: I tensorflow/core/platform/cpu_feature_guard.cc:182] This TensorFlow binary is optimized to use available CPU instructions in performance-critical operations.\n",
      "To enable the following instructions: AVX2 FMA, in other operations, rebuild TensorFlow with the appropriate compiler flags.\n",
      "2023-12-07 11:28:06.381102: I tensorflow/core/platform/cpu_feature_guard.cc:182] This TensorFlow binary is optimized to use available CPU instructions in performance-critical operations.\n",
      "To enable the following instructions: AVX2 FMA, in other operations, rebuild TensorFlow with the appropriate compiler flags.\n",
      "/Users/Cyrille/.local/share/virtualenvs/Deep_learning-ZjjgEFKy/lib/python3.11/site-packages/scikeras/wrappers.py:915: UserWarning: ``build_fn`` will be renamed to ``model`` in a future release, at which point use of ``build_fn`` will raise an Error instead.\n",
      "  X, y = self._initialize(X, y)\n",
      "/Users/Cyrille/.local/share/virtualenvs/Deep_learning-ZjjgEFKy/lib/python3.11/site-packages/scikeras/wrappers.py:915: UserWarning: ``build_fn`` will be renamed to ``model`` in a future release, at which point use of ``build_fn`` will raise an Error instead.\n",
      "  X, y = self._initialize(X, y)\n",
      "/Users/Cyrille/.local/share/virtualenvs/Deep_learning-ZjjgEFKy/lib/python3.11/site-packages/scikeras/wrappers.py:915: UserWarning: ``build_fn`` will be renamed to ``model`` in a future release, at which point use of ``build_fn`` will raise an Error instead.\n",
      "  X, y = self._initialize(X, y)\n",
      "/Users/Cyrille/.local/share/virtualenvs/Deep_learning-ZjjgEFKy/lib/python3.11/site-packages/scikeras/wrappers.py:915: UserWarning: ``build_fn`` will be renamed to ``model`` in a future release, at which point use of ``build_fn`` will raise an Error instead.\n",
      "  X, y = self._initialize(X, y)\n",
      "/Users/Cyrille/.local/share/virtualenvs/Deep_learning-ZjjgEFKy/lib/python3.11/site-packages/scikeras/wrappers.py:915: UserWarning: ``build_fn`` will be renamed to ``model`` in a future release, at which point use of ``build_fn`` will raise an Error instead.\n",
      "  X, y = self._initialize(X, y)\n",
      "/Users/Cyrille/.local/share/virtualenvs/Deep_learning-ZjjgEFKy/lib/python3.11/site-packages/scikeras/wrappers.py:915: UserWarning: ``build_fn`` will be renamed to ``model`` in a future release, at which point use of ``build_fn`` will raise an Error instead.\n",
      "  X, y = self._initialize(X, y)\n",
      "/Users/Cyrille/.local/share/virtualenvs/Deep_learning-ZjjgEFKy/lib/python3.11/site-packages/scikeras/wrappers.py:915: UserWarning: ``build_fn`` will be renamed to ``model`` in a future release, at which point use of ``build_fn`` will raise an Error instead.\n",
      "  X, y = self._initialize(X, y)\n",
      "/Users/Cyrille/.local/share/virtualenvs/Deep_learning-ZjjgEFKy/lib/python3.11/site-packages/scikeras/wrappers.py:915: UserWarning: ``build_fn`` will be renamed to ``model`` in a future release, at which point use of ``build_fn`` will raise an Error instead.\n",
      "  X, y = self._initialize(X, y)\n",
      "/Users/Cyrille/.local/share/virtualenvs/Deep_learning-ZjjgEFKy/lib/python3.11/site-packages/scikeras/wrappers.py:915: UserWarning: ``build_fn`` will be renamed to ``model`` in a future release, at which point use of ``build_fn`` will raise an Error instead.\n",
      "  X, y = self._initialize(X, y)\n",
      "/Users/Cyrille/.local/share/virtualenvs/Deep_learning-ZjjgEFKy/lib/python3.11/site-packages/scikeras/wrappers.py:915: UserWarning: ``build_fn`` will be renamed to ``model`` in a future release, at which point use of ``build_fn`` will raise an Error instead.\n",
      "  X, y = self._initialize(X, y)\n",
      "/Users/Cyrille/.local/share/virtualenvs/Deep_learning-ZjjgEFKy/lib/python3.11/site-packages/scikeras/wrappers.py:915: UserWarning: ``build_fn`` will be renamed to ``model`` in a future release, at which point use of ``build_fn`` will raise an Error instead.\n",
      "  X, y = self._initialize(X, y)\n",
      "/Users/Cyrille/.local/share/virtualenvs/Deep_learning-ZjjgEFKy/lib/python3.11/site-packages/scikeras/wrappers.py:915: UserWarning: ``build_fn`` will be renamed to ``model`` in a future release, at which point use of ``build_fn`` will raise an Error instead.\n",
      "  X, y = self._initialize(X, y)\n",
      "/Users/Cyrille/.local/share/virtualenvs/Deep_learning-ZjjgEFKy/lib/python3.11/site-packages/scikeras/wrappers.py:915: UserWarning: ``build_fn`` will be renamed to ``model`` in a future release, at which point use of ``build_fn`` will raise an Error instead.\n",
      "  X, y = self._initialize(X, y)\n",
      "/Users/Cyrille/.local/share/virtualenvs/Deep_learning-ZjjgEFKy/lib/python3.11/site-packages/scikeras/wrappers.py:915: UserWarning: ``build_fn`` will be renamed to ``model`` in a future release, at which point use of ``build_fn`` will raise an Error instead.\n",
      "  X, y = self._initialize(X, y)\n",
      "/Users/Cyrille/.local/share/virtualenvs/Deep_learning-ZjjgEFKy/lib/python3.11/site-packages/scikeras/wrappers.py:915: UserWarning: ``build_fn`` will be renamed to ``model`` in a future release, at which point use of ``build_fn`` will raise an Error instead.\n",
      "  X, y = self._initialize(X, y)\n",
      "/Users/Cyrille/.local/share/virtualenvs/Deep_learning-ZjjgEFKy/lib/python3.11/site-packages/scikeras/wrappers.py:915: UserWarning: ``build_fn`` will be renamed to ``model`` in a future release, at which point use of ``build_fn`` will raise an Error instead.\n",
      "  X, y = self._initialize(X, y)\n"
     ]
    },
    {
     "name": "stdout",
     "output_type": "stream",
     "text": [
      "Epoch 1/10\n",
      "Epoch 1/10\n",
      "Epoch 1/10\n",
      "Epoch 1/10\n",
      "Epoch 1/10\n",
      "Epoch 1/10\n",
      "Epoch 1/10\n",
      "Epoch 1/10\n",
      "Epoch 1/10\n",
      "Epoch 1/10\n",
      "Epoch 1/10\n",
      "Epoch 1/10\n",
      "Epoch 1/10\n",
      "Epoch 1/10\n",
      "Epoch 1/10\n",
      "Epoch 1/10\n",
      "667/667 [==============================] - 381s 509ms/step - loss: 2.4839 - accuracy: 0.3167 - val_loss: 1.5937 - val_accuracy: 0.46763 - loss: 3.1859 - accuracy: 0.19ETA: 6:31 - loss: 6.6483 - accuracy: 0.1.] - ETA: 6:04 - loss: 6.3671 - accuracy: 0.19\n",
      "667/667 [==============================] - 381s 506ms/step - loss: 2.6319 - accuracy: 0.3204 - val_loss: 1.6031 - val_accuracy: 0.4869\n",
      "667/667 [==============================] - 381s 508ms/step - loss: 2.7325 - accuracy: 0.3188 - val_loss: 1.6362 - val_accuracy: 0.4610\n",
      "667/667 [==============================] - 381s 507ms/step - loss: 2.5608 - accuracy: 0.3202 - val_loss: 1.5990 - val_accuracy: 0.4708\n",
      "667/667 [==============================] - 381s 505ms/step - loss: 2.2528 - accuracy: 0.3317 - val_loss: 1.5639 - val_accuracy: 0.4850\n",
      "667/667 [==============================] - 528s 532ms/step - loss: 2.7539 - accuracy: 0.3246 - val_loss: 1.5379 - val_accuracy: 0.4948\n",
      "667/667 [==============================] - 528s 532ms/step - loss: 2.1762 - accuracy: 0.3384 - val_loss: 1.6110 - val_accuracy: 0.4655\n",
      "Epoch 2/10\n",
      "Epoch 2/10\n",
      "Epoch 2/10\n",
      "Epoch 2/10\n",
      "345/667 [==============>...............] - ETA: 5:27 - loss: 4.1791 - accuracy: 0.2168Epoch 2/10\n",
      "Epoch 2/10\n",
      "Epoch 2/10\n",
      "667/667 [==============================] - 209s 314ms/step - loss: 1.5211 - accuracy: 0.4977 - val_loss: 1.3754 - val_accuracy: 0.5613\n",
      "Epoch 3/10\n",
      "667/667 [==============================] - 210s 314ms/step - loss: 1.5484 - accuracy: 0.4876 - val_loss: 1.4316 - val_accuracy: 0.5253\n",
      "Epoch 3/10\n",
      "667/667 [==============================] - 210s 314ms/step - loss: 1.5257 - accuracy: 0.4914 - val_loss: 1.3479 - val_accuracy: 0.5645\n",
      "550/667 [=======================>......] - ETA: 1:55 - loss: 2.7546 - accuracy: 0.3034Epoch 3/10\n",
      "667/667 [==============================] - 210s 315ms/step - loss: 1.5646 - accuracy: 0.4824 - val_loss: 1.4349 - val_accuracy: 0.5486\n",
      "667/667 [==============================] - 210s 315ms/step - loss: 1.5560 - accuracy: 0.4866 - val_loss: 1.4218 - val_accuracy: 0.5364\n",
      "Epoch 3/10\n",
      "667/667 [==============================] - 210s 315ms/step - loss: 1.5550 - accuracy: 0.4803 - val_loss: 1.4088 - val_accuracy: 0.5352\n",
      "Epoch 3/10\n",
      "  5/667 [..............................] - ETA: 3:13 - loss: 1.4276 - accuracy: 0.5000Epoch 3/10\n",
      "667/667 [==============================] - 215s 321ms/step - loss: 1.4933 - accuracy: 0.5088 - val_loss: 1.3149 - val_accuracy: 0.5712\n",
      " 20/667 [..............................] - ETA: 2:47 - loss: 1.4529 - accuracy: 0.5031Epoch 3/10\n",
      "667/667 [==============================] - 186s 279ms/step - loss: 1.3954 - accuracy: 0.5412 - val_loss: 1.2915 - val_accuracy: 0.5795\n",
      "Epoch 4/10\n",
      "667/667 [==============================] - 186s 279ms/step - loss: 1.3597 - accuracy: 0.5552 - val_loss: 1.2133 - val_accuracy: 0.6112\n",
      "  4/667 [..............................] - ETA: 1:17 - loss: 1.1919 - accuracy: 0.6250Epoch 4/10\n",
      "667/667 [==============================] - 187s 280ms/step - loss: 1.3450 - accuracy: 0.5617 - val_loss: 1.2692 - val_accuracy: 0.6022\n",
      "Epoch 4/10\n",
      "667/667 [==============================] - 186s 279ms/step - loss: 1.4064 - accuracy: 0.5404 - val_loss: 1.3184 - val_accuracy: 0.5694\n",
      "  1/667 [..............................] - ETA: 1:06 - loss: 1.3198 - accuracy: 0.5000Epoch 4/10\n",
      "667/667 [==============================] - 187s 280ms/step - loss: 1.4093 - accuracy: 0.5381 - val_loss: 1.3426 - val_accuracy: 0.5606\n",
      "Epoch 4/10\n",
      "667/667 [==============================] - 188s 281ms/step - loss: 1.4059 - accuracy: 0.5368 - val_loss: 1.3127 - val_accuracy: 0.5861\n",
      "Epoch 4/10\n",
      "667/667 [==============================] - 186s 279ms/step - loss: 1.3435 - accuracy: 0.5628 - val_loss: 1.2142 - val_accuracy: 0.6005\n",
      " 17/667 [..............................] - ETA: 1:37 - loss: 1.2759 - accuracy: 0.6085Epoch 4/10\n",
      "667/667 [==============================] - 1028s 1s/step - loss: 2.5627 - accuracy: 0.3401 - val_loss: 1.5617 - val_accuracy: 0.5124\n",
      "653/667 [============================>.] - ETA: 2s - loss: 1.2566 - accuracy: 0.6020Epoch 2/10\n",
      "667/667 [==============================] - 111s 166ms/step - loss: 1.2574 - accuracy: 0.6018 - val_loss: 1.2225 - val_accuracy: 0.6168\n",
      "Epoch 5/10\n",
      "667/667 [==============================] - 112s 167ms/step - loss: 1.2979 - accuracy: 0.5787 - val_loss: 1.2545 - val_accuracy: 0.5966\n",
      "Epoch 5/10\n",
      "667/667 [==============================] - 112s 169ms/step - loss: 1.2851 - accuracy: 0.5874 - val_loss: 1.2747 - val_accuracy: 0.5776\n",
      "Epoch 5/10\n",
      "667/667 [==============================] - 113s 169ms/step - loss: 1.2450 - accuracy: 0.5958 - val_loss: 1.1743 - val_accuracy: 0.6205\n",
      "Epoch 5/10\n",
      "667/667 [==============================] - 891s 1s/step - loss: 2.2882 - accuracy: 0.3558 - val_loss: 1.5960 - val_accuracy: 0.5015\n",
      "667/667 [==============================] - 112s 168ms/step - loss: 1.3077 - accuracy: 0.5750 - val_loss: 1.2597 - val_accuracy: 0.5984\n",
      "Epoch 5/10\n",
      " 18/667 [..............................] - ETA: 5:54 - loss: 1.6339 - accuracy: 0.4705Epoch 2/10\n",
      "667/667 [==============================] - 114s 171ms/step - loss: 1.3028 - accuracy: 0.5774 - val_loss: 1.2402 - val_accuracy: 0.6035\n",
      "Epoch 5/10\n",
      "667/667 [==============================] - 881s 1s/step - loss: 2.5753 - accuracy: 0.3245 - val_loss: 1.6274 - val_accuracy: 0.4676\n",
      "Epoch 2/10\n",
      "667/667 [==============================] - 114s 172ms/step - loss: 1.2549 - accuracy: 0.5950 - val_loss: 1.1465 - val_accuracy: 0.6372\n",
      "Epoch 5/10\n",
      "667/667 [==============================] - 912s 1s/step - loss: 2.9417 - accuracy: 0.2907 - val_loss: 1.6868 - val_accuracy: 0.4651\n",
      "Epoch 2/10\n",
      "667/667 [==============================] - 913s 1s/step - loss: 2.7268 - accuracy: 0.3009 - val_loss: 1.7021 - val_accuracy: 0.4565\n",
      "Epoch 2/10\n",
      "667/667 [==============================] - 914s 1s/step - loss: 2.4640 - accuracy: 0.2781 - val_loss: 1.7003 - val_accuracy: 0.4381\n",
      "Epoch 2/10\n",
      "667/667 [==============================] - 915s 1s/step - loss: 4.0222 - accuracy: 0.2742 - val_loss: 1.7246 - val_accuracy: 0.4462\n",
      "Epoch 2/10\n",
      "667/667 [==============================] - 1060s 1s/step - loss: 2.8314 - accuracy: 0.3090 - val_loss: 1.6859 - val_accuracy: 0.4374\n",
      "138/667 [=====>........................] - ETA: 1:58 - loss: 1.2076 - accuracy: 0.6123Epoch 2/10\n",
      "667/667 [==============================] - 1115s 1s/step - loss: 3.0675 - accuracy: 0.2864 - val_loss: 1.6763 - val_accuracy: 0.4747ss: 1.1766 - accuracy: 0.62 1:44 - loss: 1.2223 - accuracy: 0.60y: 0...................] - ETA: 1:55 - loss: 1.1634 - accuracy: 0.6281:38 - loss: 1.1857 - accuracy: 0.62: 0.6\n",
      "Epoch 2/10\n",
      "667/667 [==============================] - 186s 279ms/step - loss: 1.2142 - accuracy: 0.6100 - val_loss: 1.2217 - val_accuracy: 0.6046\n",
      "Epoch 6/10\n",
      "667/667 [==============================] - 190s 286ms/step - loss: 1.1834 - accuracy: 0.6227 - val_loss: 1.1119 - val_accuracy: 0.6369\n",
      "Epoch 6/10\n",
      "667/667 [==============================] - 190s 285ms/step - loss: 1.2333 - accuracy: 0.6044 - val_loss: 1.2255 - val_accuracy: 0.6020\n",
      "  2/667 [..............................] - ETA: 6:26 - loss: 0.9912 - accuracy: 0.7188Epoch 6/10\n",
      "667/667 [==============================] - 192s 288ms/step - loss: 1.2256 - accuracy: 0.6046 - val_loss: 1.1799 - val_accuracy: 0.6286\n",
      "667/667 [==============================] - 193s 289ms/step - loss: 1.1774 - accuracy: 0.6289 - val_loss: 1.1671 - val_accuracy: 0.6322\n",
      "Epoch 6/10\n",
      "  1/667 [..............................] - ETA: 3:29 - loss: 1.0717 - accuracy: 0.7188Epoch 6/10\n",
      "667/667 [==============================] - 194s 292ms/step - loss: 1.2318 - accuracy: 0.6025 - val_loss: 1.1997 - val_accuracy: 0.6155\n",
      "Epoch 6/10\n",
      "667/667 [==============================] - 193s 290ms/step - loss: 1.1821 - accuracy: 0.6222 - val_loss: 1.1081 - val_accuracy: 0.6504\n",
      "155/667 [=====>........................] - ETA: 9:35 - loss: 1.7255 - accuracy: 0.4133Epoch 6/10\n",
      "667/667 [==============================] - 188s 282ms/step - loss: 1.1518 - accuracy: 0.6296 - val_loss: 1.1354 - val_accuracy: 0.6374 loss: 1.1517 - accuracy: 0.\n",
      "Epoch 7/10\n",
      "667/667 [==============================] - 186s 280ms/step - loss: 1.1097 - accuracy: 0.6491 - val_loss: 1.1563 - val_accuracy: 0.6260\n",
      "638/667 [===========================>..] - ETA: 8s - loss: 1.1340 - accuracy: 0.6386Epoch 7/10\n",
      "667/667 [==============================] - 189s 284ms/step - loss: 1.1266 - accuracy: 0.6429 - val_loss: 1.0762 - val_accuracy: 0.6601\n",
      "Epoch 7/10\n",
      "667/667 [==============================] - 190s 284ms/step - loss: 1.1707 - accuracy: 0.6244 - val_loss: 1.1630 - val_accuracy: 0.6237\n",
      "Epoch 7/10\n",
      "667/667 [==============================] - 190s 285ms/step - loss: 1.1779 - accuracy: 0.6195 - val_loss: 1.1648 - val_accuracy: 0.6213\n",
      " 18/667 [..............................] - ETA: 2:35 - loss: 1.1266 - accuracy: 0.6493Epoch 7/10\n",
      "667/667 [==============================] - 190s 286ms/step - loss: 1.1745 - accuracy: 0.6264 - val_loss: 1.1608 - val_accuracy: 0.6243\n",
      " 35/667 [>.............................] - ETA: 2:41 - loss: 1.0543 - accuracy: 0.6750Epoch 7/10\n",
      "667/667 [==============================] - 195s 293ms/step - loss: 1.1331 - accuracy: 0.6392 - val_loss: 1.0774 - val_accuracy: 0.6590\n",
      "Epoch 7/10\n",
      "667/667 [==============================] - 194s 291ms/step - loss: 1.1035 - accuracy: 0.6459 - val_loss: 1.1117 - val_accuracy: 0.6423TA: 59s - loss: 1.0926 - accuracy: 0.650669 - accuracy: 0.66881/667 [====================>.........] - ETA: 50s - loss: 1.1341 - accuracy: 0.6s - loss: 1.0666 - accuracy: 0....] - ETA: 3:39 - loss: 1.6453 - accuracy: 0.===============>.....] - ETA: 25s - loss: 1.0726 ========>.........] - ETA: 3:32 - loss: 1.6907 - a\n",
      "Epoch 8/10\n",
      "667/667 [==============================] - 194s 292ms/step - loss: 1.0688 - accuracy: 0.6657 - val_loss: 1.1133 - val_accuracy: 0.6483\n",
      "629/667 [===========================>..] - ETA: 10s - loss: 1.0888 - accuracy: 0.6537Epoch 8/10\n",
      "667/667 [==============================] - 195s 292ms/step - loss: 1.0722 - accuracy: 0.6591 - val_loss: 1.0474 - val_accuracy: 0.6654\n",
      "501/667 [=====================>........] - ETA: 3:00 - loss: 1.6397 - accuracy: 0.4521Epoch 8/10\n",
      "667/667 [==============================] - 196s 293ms/step - loss: 1.1232 - accuracy: 0.6443 - val_loss: 1.2087 - val_accuracy: 0.6226\n",
      "Epoch 8/10\n",
      "667/667 [==============================] - 199s 298ms/step - loss: 1.1269 - accuracy: 0.6400 - val_loss: 1.1293 - val_accuracy: 0.6380\n",
      "Epoch 8/10\n",
      "667/667 [==============================] - 198s 297ms/step - loss: 1.1337 - accuracy: 0.6386 - val_loss: 1.1288 - val_accuracy: 0.6393\n",
      "Epoch 8/10\n",
      "667/667 [==============================] - 200s 301ms/step - loss: 1.0853 - accuracy: 0.6551 - val_loss: 1.0331 - val_accuracy: 0.6734\n",
      " 54/667 [=>............................] - ETA: 2:46 - loss: 1.1154 - accuracy: 0.6534Epoch 8/10\n",
      "667/667 [==============================] - 666s 999ms/step - loss: 1.5441 - accuracy: 0.4906 - val_loss: 1.3669 - val_accuracy: 0.5692\n",
      "580/667 [=========================>....] - ETA: 1:33 - loss: 1.6318 - accuracy: 0.4554Epoch 3/10\n",
      "667/667 [==============================] - 663s 995ms/step - loss: 1.5083 - accuracy: 0.5113 - val_loss: 1.4004 - val_accuracy: 0.5529\n",
      "Epoch 3/10\n",
      "667/667 [==============================] - 662s 993ms/step - loss: 1.5416 - accuracy: 0.4917 - val_loss: 1.4438 - val_accuracy: 0.5354\n",
      " 10/667 [..............................] - ETA: 10:13 - loss: 1.4037 - accuracy: 0.5375Epoch 3/10\n",
      "667/667 [==============================] - 183s 275ms/step - loss: 1.0353 - accuracy: 0.6713 - val_loss: 1.0298 - val_accuracy: 0.6684ccuracy: 0.66.0825 - accuracy: 67 [==========================>...] - ETA: 1:05 - loss: 1.6281 - accuracy: 0.45TA: 1:23 - loss: 1.0801 - accuracy: 0.65..........] - ETA: 1:11 - loss: 1.0937 - accuracy: 0.65 0. [>.............................] - ETA: 10:54 - loss: 1.3898 - accuracy: 0.552curacy: 0 [====================>.........] - ETA: 54s - loss: 1.0876 - accuracy: 0.==================>..........] - ETA: 57s - loss: 1.0952 - accuracy: 0......] - ETA: 51s - loss: 1.0945 - accuracy: 0============>..] - ETA: 31s - loss: 1.6296 - accuracy: 0.4.0272 - accuracy: 0.67567 [==========================>...] - ETA: 53s - loss: 1.6802 - accuracy: 0.4acy: 0.666=======>......] - ETA: 35s - loss: 1.0917 - accuracy: 0.A: 50s - loss: 1.0481 - accuracy: 0racy: 0.666======>....] - ETA: 19s - loss: 1.0850 - accuracy: 0.66: 1.0905 - accuracy: cy: 0.54y: 0.66a\n",
      "Epoch 9/10\n",
      "667/667 [==============================] - 193s 289ms/step - loss: 1.0648 - accuracy: 0.6623 - val_loss: 1.2124 - val_accuracy: 0.6125\n",
      "Epoch 9/10\n",
      "667/667 [==============================] - 186s 279ms/step - loss: 1.0807 - accuracy: 0.6625 - val_loss: 1.1991 - val_accuracy: 0.6155\n",
      "659/667 [============================>.] - ETA: 8s - loss: 1.6785 - accuracy: 0.4454 Epoch 9/10\n",
      "667/667 [==============================] - 742s 1s/step - loss: 1.6259 - accuracy: 0.4498 - val_loss: 1.4708 - val_accuracy: 0.5291\n",
      "Epoch 3/10\n",
      "667/667 [==============================] - 193s 289ms/step - loss: 1.0362 - accuracy: 0.6759 - val_loss: 1.0996 - val_accuracy: 0.6616\n",
      "Epoch 9/10\n",
      "667/667 [==============================] - 736s 1s/step - loss: 1.6208 - accuracy: 0.4592 - val_loss: 1.4606 - val_accuracy: 0.5219\n",
      "667/667 [==============================] - 743s 1s/step - loss: 1.6318 - accuracy: 0.4550 - val_loss: 1.4978 - val_accuracy: 0.5322\n",
      "Epoch 3/10\n",
      "623/667 [===========================>..] - ETA: 48s - loss: 1.6492 - accuracy: 0.4397Epoch 3/10\n",
      "667/667 [==============================] - 187s 281ms/step - loss: 1.0845 - accuracy: 0.6562 - val_loss: 1.1233 - val_accuracy: 0.6389\n",
      "Epoch 9/10\n",
      "667/667 [==============================] - 190s 286ms/step - loss: 1.0892 - accuracy: 0.6530 - val_loss: 1.1141 - val_accuracy: 0.6455\n",
      "Epoch 9/10\n",
      "667/667 [==============================] - 190s 285ms/step - loss: 1.0519 - accuracy: 0.6661 - val_loss: 1.0491 - val_accuracy: 0.6665\n",
      "643/667 [===========================>..] - ETA: 26s - loss: 1.6475 - accuracy: 0.4408Epoch 9/10\n",
      "667/667 [==============================] - 765s 1s/step - loss: 1.6771 - accuracy: 0.4457 - val_loss: 1.5354 - val_accuracy: 0.5032\n",
      "136/667 [=====>........................] - ETA: 2:06 - loss: 0.9667 - accuracy: 0.6967Epoch 3/10\n",
      "667/667 [==============================] - 770s 1s/step - loss: 1.6632 - accuracy: 0.4323 - val_loss: 1.5024 - val_accuracy: 0.5129\n",
      "Epoch 3/10\n",
      "667/667 [==============================] - 752s 1s/step - loss: 1.6439 - accuracy: 0.4419 - val_loss: 1.4696 - val_accuracy: 0.5360\n",
      "Epoch 3/10\n",
      "667/667 [==============================] - 185s 277ms/step - loss: 0.9869 - accuracy: 0.6912 - val_loss: 1.0915 - val_accuracy: 0.6567A: 41s - loss: 0.9941 - accuracy: 0.69945 - acc======>.....] - ETA: 27s - loss: 1.0431 - accuracy: 0.679836 - accuracy: 0.==>..] - ETA: 11s - loss: 1.0288 - accuracy: 0.67- loss: 1.0375 - accuracy: 0..] - ETA: 7s - loss: 1.0375 - accuracy: 0.1- ETA: 5:55 - loss: 1.3617 - accuracy: 0.554\n",
      "Epoch 10/10\n",
      "667/667 [==============================] - 185s 277ms/step - loss: 1.0311 - accuracy: 0.6771 - val_loss: 1.0962 - val_accuracy: 0.6490 accuracy: 0.68\n",
      "Epoch 10/10\n",
      "667/667 [==============================] - 190s 284ms/step - loss: 1.0373 - accuracy: 0.6735 - val_loss: 1.0856 - val_accuracy: 0.6554\n",
      "Epoch 10/10\n",
      "667/667 [==============================] - 189s 284ms/step - loss: 0.9951 - accuracy: 0.6899 - val_loss: 1.0749 - val_accuracy: 0.6654\n",
      "638/667 [===========================>..] - ETA: 8s - loss: 1.0589 - accuracy: 0.6632Epoch 10/10\n",
      "667/667 [==============================] - 187s 281ms/step - loss: 1.0468 - accuracy: 0.6705 - val_loss: 1.0776 - val_accuracy: 0.6610\n",
      "  5/667 [..............................] - ETA: 2:51 - loss: 0.8273 - accuracy: 0.7875Epoch 10/10\n",
      "667/667 [==============================] - 194s 291ms/step - loss: 1.0602 - accuracy: 0.6622 - val_loss: 1.0911 - val_accuracy: 0.6507\n",
      "Epoch 10/10\n",
      "667/667 [==============================] - 195s 292ms/step - loss: 1.0189 - accuracy: 0.6784 - val_loss: 1.0315 - val_accuracy: 0.675714 - loss: 1.5038 - accuracy: 0.50 - ETA: 2:52 - loss: 0.9680 - accuracy: 0.69\n",
      "Epoch 10/10\n",
      "667/667 [==============================] - 184s 276ms/step - loss: 0.9553 - accuracy: 0.6976 - val_loss: 1.0586 - val_accuracy: 0.66699 - loss: 0.9826 - accuracy: 0.69ETA: 2:27 - loss: 0.18/667 [====>.........................] - ETA: 2:30 - loss: 0.9617 - accuracy: 0.69ETA: 1:46 - loss: 0.9778 - accuracy: 0.] - ETA: 1:56 - loss: 0.9467 - accuracy: 0.700.......] - ETA: 1:45 - loss: 0.9959 - accuracy: 0.68acy: 0............] - ETA: 1:40 - loss: 0.9978 - accuracy: 0.68accuracy: ................] - ETA: 1:41 - loss: 1.0233 - accuracy: 0.6782 - accuracy: 0.=======>.............] - ETA: 1:13 - loss: 0.9243 - accuracy: 0.70 0.9259 - accuracy: =======>..................] - ETA: 1:45 - loss: 1.0100 - accuracy: 0.68loss: 0.9877 - accuracy: 0.[=================>............] - ETA: 1:10 - loss: 0.9879 - accuracy: 0.6903 - loss: 0.9341 - accuracy:  [================>.............] - ETA: 1:17 - loss: 0.9546 - accuracy: 0.700.9542 - accuracy: 0. - ETA: 1:31 - loss: 1.0135 - accuracy: 0A: 1:34 - loss: 1.0054 - accuracy: 0.oss: 1.4670 - accuracy: 0.5..............] - ETA: 1:27 - loss: 1.0079 - accuracy==========>..............] - ETA: 1:18 - loss: 1.0085 - accuracy: 0.67>.............] - ETA: 1:16 - loss: 1.0065 - accuracy: 0.] - ETA: 47s - loss: ======================>....] - ETA: 17s - loss: 0.9502 - accuracy: 0.69 0.9639 - ====================>..] - ETA: 11s - loss: 1.0264 - accuracy: 0.6\n",
      "667/667 [==============================] - 186s 280ms/step - loss: 0.9946 - accuracy: 0.6889 - val_loss: 1.0604 - val_accuracy: 0.6682- accuracy: 0\n",
      "667/667 [==============================] - 179s 268ms/step - loss: 1.0283 - accuracy: 0.6725 - val_loss: 1.0592 - val_accuracy: 0.6646\n",
      "667/667 [==============================] - 179s 269ms/step - loss: 0.9672 - accuracy: 0.7008 - val_loss: 1.0394 - val_accuracy: 0.6790\n",
      "667/667 [==============================] - 181s 272ms/step - loss: 1.0111 - accuracy: 0.6808 - val_loss: 1.1560 - val_accuracy: 0.6290\n",
      "667/667 [==============================] - 182s 273ms/step - loss: 1.0291 - accuracy: 0.6740 - val_loss: 1.0715 - val_accuracy: 0.6670\n",
      "667/667 [==============================] - 179s 268ms/step - loss: 1.0011 - accuracy: 0.6812 - val_loss: 1.0356 - val_accuracy: 0.6736\n",
      "667/667 [==============================] - 624s 936ms/step - loss: 1.3754 - accuracy: 0.5545 - val_loss: 1.2837 - val_accuracy: 0.5889==========>..] - ETA: 28s - loss: 1.3241 - accuracy: 0.667 [==================>...........] - ETA: 3:51 - loss: 1.5211 - accuracy: 0.500.4:49 - loss: 1.4631 - accuracy: 0.5acy: 0.5 ETA:\n",
      "396/417 [===========================>..] - ETA: 0sEpoch 4/10\n",
      "417/417 [==============================] - 27s 37ms/steposs: 1.5202 - accuracy: 0.50..] - ETA: \n",
      "417/417 [==============================] - 28s 37ms/steposs: 1.4630 - accuracy: 0.510\n",
      "417/417 [==============================] - 28s 38ms/step\n",
      "667/667 [==============================] - 619s 928ms/step - loss: 1.3221 - accuracy: 0.5813 - val_loss: 1.3222 - val_accuracy: 0.5771\n",
      "Epoch 4/10\n",
      "667/667 [==============================] - 619s 928ms/step - loss: 1.3451 - accuracy: 0.5594 - val_loss: 1.3384 - val_accuracy: 0.5694\n",
      "438/667 [==================>...........] - ETA: 3:58 - loss: 1.4892 - accuracy: 0.5009Epoch 4/10\n",
      "417/417 [==============================] - 37s 40ms/steposs: 1.2609 - accuracy: 0.5939ETA: 2:59 - loss: 1.5357 - accuracy: 0.477- accuracy: 0.50==============>...............] - ETA: .....] - E\n",
      "417/417 [==============================] - 31s 39ms/steposs: 1.1723 - accuracy: 0.633..................] - ETA: =>............................] - ETA: 7:30 - loss: 1.2120 - accuracy: 0.60y: 0. loss: 1.4871 - accuracy: 0.50\n",
      "417/417 [==============================] - 32s 38ms/step\n",
      "417/417 [==============================] - 31s 38ms/stepss: 1.4557 - accuracy: 0.51\n",
      "667/667 [==============================] - 643s 964ms/step - loss: 1.4591 - accuracy: 0.5132 - val_loss: 1.4388 - val_accuracy: 0.5495\n",
      "177/667 [======>.......................] - ETA: 5:46 - loss: 1.2617 - accuracy: 0.5897Epoch 4/10\n",
      "667/667 [==============================] - 647s 970ms/step - loss: 1.4738 - accuracy: 0.5109 - val_loss: 1.4161 - val_accuracy: 0.5540\n",
      "634/667 [===========================>..] - ETA: 32s - loss: 1.5302 - accuracy: 0.4818Epoch 4/10\n",
      "667/667 [==============================] - 650s 975ms/step - loss: 1.4591 - accuracy: 0.5142 - val_loss: 1.3233 - val_accuracy: 0.5748\n",
      "638/667 [===========================>..] - ETA: 28s - loss: 1.5295 - accuracy: 0.4820Epoch 4/10\n",
      " 36/667 [>.............................] - ETA: 5:38 - loss: 1.2179 - accuracy: 0.6013curacy: 0.512==================>..] - ETA: 22s - loss: 1.5291 - accuracy: 0.48- loss: 1.5093 - accuracy: 0."
     ]
    },
    {
     "name": "stderr",
     "output_type": "stream",
     "text": [
      "/Users/Cyrille/.local/share/virtualenvs/Deep_learning-ZjjgEFKy/lib/python3.11/site-packages/scikeras/wrappers.py:915: UserWarning: ``build_fn`` will be renamed to ``model`` in a future release, at which point use of ``build_fn`` will raise an Error instead.\n",
      "  X, y = self._initialize(X, y)\n",
      "/Users/Cyrille/.local/share/virtualenvs/Deep_learning-ZjjgEFKy/lib/python3.11/site-packages/scikeras/wrappers.py:915: UserWarning: ``build_fn`` will be renamed to ``model`` in a future release, at which point use of ``build_fn`` will raise an Error instead.\n",
      "  X, y = self._initialize(X, y)\n",
      "/Users/Cyrille/.local/share/virtualenvs/Deep_learning-ZjjgEFKy/lib/python3.11/site-packages/scikeras/wrappers.py:915: UserWarning: ``build_fn`` will be renamed to ``model`` in a future release, at which point use of ``build_fn`` will raise an Error instead.\n",
      "  X, y = self._initialize(X, y)\n",
      "/Users/Cyrille/.local/share/virtualenvs/Deep_learning-ZjjgEFKy/lib/python3.11/site-packages/scikeras/wrappers.py:915: UserWarning: ``build_fn`` will be renamed to ``model`` in a future release, at which point use of ``build_fn`` will raise an Error instead.\n",
      "  X, y = self._initialize(X, y)\n"
     ]
    },
    {
     "name": "stdout",
     "output_type": "stream",
     "text": [
      "231/667 [=========>....................] - ETA: 5:24 - loss: 1.2156 - accuracy: 0.60450."
     ]
    },
    {
     "name": "stderr",
     "output_type": "stream",
     "text": [
      "/Users/Cyrille/.local/share/virtualenvs/Deep_learning-ZjjgEFKy/lib/python3.11/site-packages/scikeras/wrappers.py:915: UserWarning: ``build_fn`` will be renamed to ``model`` in a future release, at which point use of ``build_fn`` will raise an Error instead.\n",
      "  X, y = self._initialize(X, y)\n"
     ]
    },
    {
     "name": "stdout",
     "output_type": "stream",
     "text": [
      "667/667 [==============================] - 666s 998ms/step - loss: 1.5274 - accuracy: 0.4826 - val_loss: 1.4267 - val_accuracy: 0.5422\n",
      "667/667 [==============================] - 670s 1s/step - loss: 1.5085 - accuracy: 0.5131 - val_loss: 1.4164 - val_accuracy: 0.5591\n",
      "234/667 [=========>....................] - ETA: 5:24 - loss: 1.1766 - accuracy: 0.6347Epoch 4/10\n",
      "Epoch 4/10\n",
      " 60/667 [=>............................] - ETA: 9:44 - loss: 1.34999 - accuracy: 0.5290"
     ]
    },
    {
     "name": "stderr",
     "output_type": "stream",
     "text": [
      "/Users/Cyrille/.local/share/virtualenvs/Deep_learning-ZjjgEFKy/lib/python3.11/site-packages/scikeras/wrappers.py:915: UserWarning: ``build_fn`` will be renamed to ``model`` in a future release, at which point use of ``build_fn`` will raise an Error instead.\n",
      "  X, y = self._initialize(X, y)\n"
     ]
    },
    {
     "name": "stdout",
     "output_type": "stream",
     "text": [
      "667/667 [==============================] - 662s 992ms/step - loss: 1.4704 - accuracy: 0.5088 - val_loss: 1.3832 - val_accuracy: 0.5688\n",
      "Epoch 4/10\n",
      "112/667 [====>.........................] - ETA: 10:14 - loss: 1.3222 - accuracy: 0.56147 [==>...........................] - ETA: 9:41 - loss: 1.3676 - accuracy: 0.52........................] - ETA: 9:50 - loss: 1.3713 - accuracy: 0.526========>..................] - ETA: 5:09 - loss: 1.2184 - accuracy: "
     ]
    },
    {
     "name": "stderr",
     "output_type": "stream",
     "text": [
      "/Users/Cyrille/.local/share/virtualenvs/Deep_learning-ZjjgEFKy/lib/python3.11/site-packages/scikeras/wrappers.py:915: UserWarning: ``build_fn`` will be renamed to ``model`` in a future release, at which point use of ``build_fn`` will raise an Error instead.\n",
      "  X, y = self._initialize(X, y)\n"
     ]
    },
    {
     "name": "stdout",
     "output_type": "stream",
     "text": [
      "137/667 [=====>........................] - ETA: 10:04 - loss: 1.3683 - accuracy: 0.5367Epoch 1/10\n",
      " 63/667 [=>............................] - ETA: 14:03 - loss: 1.3681 - accuracy: 0.5476Epoch 1/10\n",
      " 93/667 [===>..........................] - ETA: 12:05 - loss: 1.4443 - accuracy: 0.5185Epoch 1/10\n",
      "108/667 [===>..........................] - ETA: 11:36 - loss: 1.4332 - accuracy: 0.5234Epoch 1/10y: 0.540\n",
      "361/667 [===============>..............] - ETA: 4:29 - loss: 1.2527 - accuracy: 0.5945Epoch 1/10\n",
      "168/667 [======>.......................] - ETA: 9:25 - loss: 1.3596 - accuracy: 0.5406Epoch 1/10\n",
      " 31/667 [>.............................] - ETA: 2:07 - loss: 7.0049 - accuracy: 0.1008Epoch 1/10\n",
      "667/667 [==============================] - 279s 328ms/step - loss: 2.2746 - accuracy: 0.3211 - val_loss: 1.6505 - val_accuracy: 0.4507....] - ETA:......] - ETA: 1:48 - l accuracy: 0/667 [======================>.......] - ETA: 41s - loss: 2.8119 - accuracy: 0.28=============>.......] - ETA: 37s \n",
      "Epoch 2/10\n",
      "667/667 [==============================] - 593s 889ms/step - loss: 1.2617 - accuracy: 0.5927 - val_loss: 1.2522 - val_accuracy: 0.6029\n",
      "Epoch 5/10\n",
      "667/667 [==============================] - 592s 886ms/step - loss: 1.1854 - accuracy: 0.6274 - val_loss: 1.3151 - val_accuracy: 0.5832\n",
      "353/667 [==============>...............] - ETA: 5:41 - loss: 1.3830 - accuracy: 0.5402Epoch 5/10\n",
      "667/667 [==============================] - 295s 350ms/step - loss: 2.2231 - accuracy: 0.3173 - val_loss: 1.5352 - val_accuracy: 0.4921\n",
      "Epoch 2/10\n",
      "667/667 [==============================] - 605s 907ms/step - loss: 1.2282 - accuracy: 0.6007 - val_loss: 1.2973 - val_accuracy: 0.58590===>..] - ETA: 10s - loss: 2.6296 - accuracy: 0.3 [>.............................] - ETA: 3:10 - loss: 1.6677 - accuracy: 0.43\n",
      " 43/667 [>.............................] - ETA: 3:08 - loss: 1.6790 - accuracy: 0.4295Epoch 5/10\n",
      "667/667 [==============================] - 295s 333ms/step - loss: 2.5566 - accuracy: 0.3148 - val_loss: 1.6047 - val_accuracy: 0.4687 loss: 2.5792 - accuracy: 0.31\n",
      "Epoch 2/10\n",
      "667/667 [==============================] - 286s 312ms/step - loss: 2.5714 - accuracy: 0.3178 - val_loss: 1.6039 - val_accuracy: 0.4792uracy: 0.54loss: 3.4388 - accuracy: 0/667 [=================>............] - ETA: 4:29 - loss: 1.4217 - accuracy: 0.52........] - ETA: 12:56 - loss: 1.1304 - accuracy: 0.63 4.2868 - accuracy: 067 [====>.........................] - ETA: 2:27 - loss: 1.6310 - accuracy: 0.446\n",
      "501/667 [=====================>........] - ETA: 2:52 - loss: 1.3741 - accuracy: 0.5435Epoch 2/10\n",
      "667/667 [==============================] - 186s 278ms/step - loss: 1.5485 - accuracy: 0.4818 - val_loss: 1.4074 - val_accuracy: 0.5465040 - accuracy: 0.6540 - loss: 4.1235 - ..............] - ETA: 2:01 - loss: 1.6111 - accuracy: 0.4643 - accuracy: 0.[========>.....................] - ETA: 2:04 - loss: 1.6296 - accuracy: 0.44: 5:31 - loss: 2.9581 - accura>...........] - ETA: 4:10 - loss: 1.3771 - accuracy: 0.5479 - accuracy: 0.[===>..........................] - ETA: 9:25 - loss: 1.1495 - accuracy: 0.631:28 - loss: 1.6025 - accuracy: ETA: 9:48 - loss: 1.1023 - accur==================>.........] - ETA: 3:15 - loss: 1.3774 - accuracy: 0.5.........] - ETA: 8:21 - loss: 1.1573 - accuracy: 01.1544 - accuracy: 0.63\n",
      "594/667 [=========================>....] - ETA: 20s - loss: 1.5687 - accuracy: 0.4809Epoch 3/10\n",
      "667/667 [==============================] - 204s 306ms/step - loss: 1.5546 - accuracy: 0.4846 - val_loss: 1.3967 - val_accuracy: 0.5521racy: 0.2==============>...] - ETA: : 37s - loss: 1.3529 - accuracy: 0.559s - loss: 1.5724 - accuracy: 0.\n",
      "644/667 [===========================>..] - ETA: 6s - loss: 1.5703 - accuracy: 0.4701Epoch 3/10\n",
      "667/667 [==============================] - 201s 299ms/step - loss: 1.5693 - accuracy: 0.4704 - val_loss: 1.3998 - val_accuracy: 0.5311- accuracy: 0.55\n",
      "Epoch 3/10\n",
      "667/667 [==============================] - 184s 276ms/step - loss: 1.5449 - accuracy: 0.4888 - val_loss: 1.3917 - val_accuracy: 0.5514\n",
      "484/667 [====================>.........] - ETA: 2:53 - loss: 2.5798 - accuracy: 0.2787Epoch 3/10\n",
      "667/667 [==============================] - 723s 1s/step - loss: 1.3494 - accuracy: 0.5549 - val_loss: 1.3447 - val_accuracy: 0.5626\n",
      "Epoch 5/10\n",
      "667/667 [==============================] - 721s 1s/step - loss: 1.3680 - accuracy: 0.5456 - val_loss: 1.3910 - val_accuracy: 0.5448\n",
      "  3/667 [..............................] - ETA: 15:18 - loss: 1.2717 - accuracy: 0.5833Epoch 5/10\n",
      "667/667 [==============================] - 725s 1s/step - loss: 1.3515 - accuracy: 0.5543 - val_loss: 1.3047 - val_accuracy: 0.5812\n",
      "149/667 [=====>........................] - ETA: 2:27 - loss: 1.4551 - accuracy: 0.5220Epoch 5/10\n",
      "667/667 [==============================] - 751s 1s/step - loss: 1.4185 - accuracy: 0.5256 - val_loss: 1.4488 - val_accuracy: 0.5184\n",
      "483/667 [====================>.........] - ETA: 48s - loss: 1.4202 - accuracy: 0.5352Epoch 5/10\n",
      "667/667 [==============================] - 752s 1s/step - loss: 1.3890 - accuracy: 0.5543 - val_loss: 1.3907 - val_accuracy: 0.5579\n",
      "Epoch 5/10\n",
      "667/667 [==============================] - 177s 265ms/step - loss: 1.3885 - accuracy: 0.5476 - val_loss: 1.3194 - val_accuracy: 0.5859ss: 1.3748 - accuracy: 0.545- loss: 1.4294 - accuracy: 0.5022 - accuracy: 0.56\n",
      "Epoch 4/10\n",
      "667/667 [==============================] - 741s 1s/step - loss: 1.3741 - accuracy: 0.5452 - val_loss: 1.2535 - val_accuracy: 0.6009\n",
      "449/667 [===================>..........] - ETA: 54s - loss: 1.4085 - accuracy: 0.5445Epoch 5/10\n",
      "667/667 [==============================] - 191s 286ms/step - loss: 1.4061 - accuracy: 0.5394 - val_loss: 1.2642 - val_accuracy: 0.5816\n",
      "Epoch 4/10\n",
      "667/667 [==============================] - 718s 1s/step - loss: 2.6694 - accuracy: 0.2789 - val_loss: 1.7881 - val_accuracy: 0.4271\n",
      "Epoch 2/10\n",
      "667/667 [==============================] - 195s 292ms/step - loss: 1.4175 - accuracy: 0.5323 - val_loss: 1.3057 - val_accuracy: 0.5778\n",
      "Epoch 4/10\n",
      "667/667 [==============================] - 181s 272ms/step - loss: 1.3964 - accuracy: 0.5494 - val_loss: 1.3056 - val_accuracy: 0.5825\n",
      "104/667 [===>..........................] - ETA: 2:27 - loss: 1.3270 - accuracy: 0.5676Epoch 4/10\n",
      "667/667 [==============================] - 762s 1s/step - loss: 2.8929 - accuracy: 0.2884 - val_loss: 1.7208 - val_accuracy: 0.4608\n",
      "269/667 [===========>..................] - ETA: 1:34 - loss: 1.3233 - accuracy: 0.5646Epoch 2/10\n",
      "667/667 [==============================] - 177s 265ms/step - loss: 1.3031 - accuracy: 0.5789 - val_loss: 1.2707 - val_accuracy: 0.5956\n",
      "Epoch 5/10\n",
      "667/667 [==============================] - 803s 1s/step - loss: 2.3471 - accuracy: 0.3174 - val_loss: 1.5983 - val_accuracy: 0.5024\n",
      "Epoch 2/10\n",
      "667/667 [==============================] - 183s 275ms/step - loss: 1.3038 - accuracy: 0.5758 - val_loss: 1.1748 - val_accuracy: 0.6254\n",
      "650/667 [============================>.] - ETA: 4s - loss: 1.3055 - accuracy: 0.5801Epoch 5/10\n",
      "667/667 [==============================] - 168s 252ms/step - loss: 1.3044 - accuracy: 0.5806 - val_loss: 1.2568 - val_accuracy: 0.5982.........] - ETA: 6:52 - loss: 1.7691 - accuracy: 0.400.===================>...] - ETA: 51s - loss: 1.1697 - accuracy: 0.62\n",
      "667/667 [==============================] - 174s 262ms/step - loss: 1.3161 - accuracy: 0.5708 - val_loss: 1.2649 - val_accuracy: 0.5862\n",
      "615/667 [==========================>...] - ETA: 50s - loss: 1.1699 - accuracy: 0.6276Epoch 5/10\n",
      "Epoch 5/10\n",
      "667/667 [==============================] - 655s 982ms/step - loss: 1.1663 - accuracy: 0.6287 ....................] - ETA: 2:40 - loss: 1.1988 - accuracy: 0.612087 - accuracy: 0.7:58 - loss: 1.7297 - accuracy: ....] - ETA: 2:54 - loss: 1.2485 - accuracy: 0......................] - ETA: 2:46 - loss: 1.2569 - accuracy: 0.591accuracy: 0./667 [=====>........................] - ETA: 2:21 - loss: 1.2284 - accuracy: 0..] - ETA: 2:19 - loss: 1.2266 - accuracy: 0.5................] - ETA: 6:10 - loss: 1.7618 - accuracy: 0.41y: 0.6002:09 - loss: 1.2242 - accuracy: 0.==>..........] - ETA: 51s - loss: 1.2403 - accuracy: 0.5[=======>......................] - ETA: 2:07 - loss: 1.2359 - accuracy: 0.61......] - ETA: 7:05 - loss: 1.3081 - accuracy: 0.58- val_loss: 1.2035 - val_accuracy: 0.6155\n",
      "225/667 [=========>....................] - ETA: 1:58 - loss: 1.2294 - accuracy: 0.6143Epoch 6/10\n",
      "667/667 [==============================] - 663s 994ms/step - loss: 1.1000 - accuracy: 0.6563 - val_loss: 1.2373 - val_accuracy: 0.6200:14 - loss: 1.2402 - accuracy: 0.60ss: 1.2215 - accuracy: 0.\n",
      "141/667 [=====>........................] - ETA: 8:24 - loss: 1.6633 - accuracy: 0.4415Epoch 6/10\n",
      "667/667 [==============================] - 648s 972ms/step - loss: 1.1160 - accuracy: 0.6423 - val_loss: 1.1967 - val_accuracy: 0.6125\n",
      "257/667 [==========>...................] - ETA: 1:49 - loss: 1.2273 - accuracy: 0.6137Epoch 6/10\n",
      "667/667 [==============================] - 186s 279ms/step - loss: 1.2302 - accuracy: 0.6059 - val_loss: 1.2289 - val_accuracy: 0.6089 loss: 1.2524 - accuracy: 0.=============>.............] - ETA: 4:54 - loss: 1.2479 - accuracy: 0.58 1.2262 - accuracy: 0========>.................] - ETA: 1:56 - loss: 1.2435 - accuracy: 0.602ss: 1.3550 - accuracy: 0.5==============>..] - ETA: 9s - loss: 1.2295 - accuracy: 0.60: 0.6=======>..............] - ETA: 1:22 - loss: 1.2243 - accuracy: 0.612acy: 0.>............] - ETA: 4:27 - loss: 1.2773 - accuracy: 0.57 loss: 1.2264 - accuracy: 0.609\n",
      "247/667 [==========>...................] - ETA: 6:28 - loss: 1.7139 - accuracy: 0.4312Epoch 6/10\n",
      "667/667 [==============================] - 202s 303ms/step - loss: 1.2325 - accuracy: 0.6047 - val_loss: 1.1355 - val_accuracy: 0.6397y: 0.58 1.2471 - accuracy: 0.=>.........] - ETA: 54s - loss: 1.2246 - accuracy: 0.60............] - ETA: 10:50 - loss: 0.9834 - accuracy: 0.70====>...........] - ETA: 4:02 - loss: 1.2794 - accuracy: 0.57uracy: 0.====>.........] - ETA: 57s - loss: 1.2461 - accuracy: ====>.....] - ETA: 31s - loss: 1.2339 - accuracy:....] - ETA: 3:39 - loss: 1.2503 - accuracy: 00.588\n",
      "486/667 [====================>.........] - ETA: 3:16 - loss: 1.2528 - accuracy: 0.5884Epoch 6/10\n",
      "667/667 [==============================] - 200s 300ms/step - loss: 1.2291 - accuracy: 0.6099 - val_loss: 1.1861 - val_accuracy: 0.6290..............] - ETA: 3:11 - loss: 1.1317 - accuracy: 0.63\n",
      "Epoch 6/10\n",
      "667/667 [==============================] - 216s 323ms/step - loss: 1.2399 - accuracy: 0.6009 - val_loss: 1.2093 - val_accuracy: 0.6070\n",
      "Epoch 6/10\n",
      "667/667 [==============================] - 200s 298ms/step - loss: 1.1918 - accuracy: 0.6152 - val_loss: 1.1856 - val_accuracy: 0.63527 - loss: 1.1538 - accuracy: 0.63ETA: 2:39 - loss: 1.1586 - accuracy: 0.] - ETA: 9:00 - loss: 0.9748 - accuracy: 0.70......] - ETA: 8:59 - loss: 0.9909 - accuracy: 0.68acy:A: 8:49 - loss: 0.9973 - accuracy: 0......] - ETA: 2:08 - loss: 1.1513 - accuracy: ===>.......] - ETA: 44s - loss: 1.1986 - accuracy: 0..........] - ETA: 5:25 - loss: 1.6219 - accuracy: 0.46==============>.....] - ETA: 2:02 - loss: 1.2762 - accuracy: 0.57acy: 0.5==================>..........] - ETA: 3:47 - loss: 1.2883 - accuracy: 0.575- accuracy: 0 loss: 1.1620 - accuracy: 0.67 [========================>.....] - ETA: 1:40 - loss: 1.2765 - accuracy: 0.571766 - accuracy: 0.6=============>.] - ETA: 2s - loss: 1.1920 - accuracy: A: 1:10 - loss: 1.1627 - accuracy: 0.63\n",
      "Epoch 7/10\n",
      "667/667 [==============================] - 192s 289ms/step - loss: 1.1690 - accuracy: 0.6337 - val_loss: 1.1868 - val_accuracy: 0.6228cy: 0.44accuracy: 0..] - ETA: 7:16 - loss: 1.0031 - accuracy: 0.3 - accuracy: 0.............] - ETA: 1:15 - loss: 1.1786 - accuracy: 0.curacy: 0.ss: 1.1810 - accuracy:  - ETA: 22s - loss: 1.1673 - accuracy: 0.6] - ETA: 23s - loss: 1.1740 - accuracy: 0.6 - loss: 1.2896 - accuracy: 0.574 accuracy: 04 - loss: 1.1315 - accuracy: 0..] - ETA: 1:48 - loss: 1.1305 - accuracy: 0.64=============>.] - ETA: 1s - loss: 1.2577 - accuracy: 0.58\n",
      "Epoch 7/10\n",
      "667/667 [==============================] - 206s 309ms/step - loss: 1.1713 - accuracy: 0.6310 - val_loss: 1.1072 - val_accuracy: 0.65170.46\n",
      "664/667 [============================>.] - ETA: 3s - loss: 1.2764 - accuracy: 0.5800Epoch 7/10\n",
      "667/667 [==============================] - 737s 1s/step - loss: 1.2579 - accuracy: 0.5871 - val_loss: 1.3706 - val_accuracy: 0.5540\n",
      "Epoch 6/10\n",
      "667/667 [==============================] - 740s 1s/step - loss: 1.2609 - accuracy: 0.5828 - val_loss: 1.2567 - val_accuracy: 0.6025==========>.....] - ETA: 1:50 - loss: 1.2920 - accuracy: 0.573: 0.4 - loss: 1.1273 - accuracy: 0.6\n",
      "617/667 [==========================>...] - ETA: 48s - loss: 1.7006 - accuracy: 0.4266Epoch 6/10\n",
      "667/667 [==============================] - 751s 1s/step - loss: 1.2765 - accuracy: 0.5799 - val_loss: 1.2681 - val_accuracy: 0.5934\n",
      "Epoch 6/10\n",
      "667/667 [==============>...............] - ETA: 5:34 - loss: 0.9880 - accuracy: 0.7063==========================] - 206s 309ms/step - loss: 1.1904 - accuracy: 0.6143 - val_loss: 1.2233 - val_accuracy: 0.6078\n",
      "393/667 [================>.............] - ETA: 1:12 - loss: 1.1313 - accuracy: 0.6382Epoch 7/10\n",
      "667/667 [==============================] - 659s 987ms/step - loss: 1.6929 - accuracy: 0.4294 - val_loss: 1.5518 - val_accuracy: 0.51161.0116 - accuracy: 0........] - ETA: 2:26 - loss: 1.6088 - accuracy: 0.466=======================>.] - ETA: 12s - loss: 1.6943 - accuracy: 0.429acy: 0.6=====>.....................] - ETA: 2:09 - loss: 1.0897 - accuracy: 0.65cy: 0........] - ETA: 36s - loss: 1.1393 - accuracy: 0=>..] - ETA: 42s - loss: 1.3130 - accuracy: 0......] - ETA: 4:44 - loss: 0.9934 - accuracy: 0..] - ETA: 18s - loss: 1.1419 - accuracy: 0.63\n",
      " 55/667 [=>............................] - ETA: 11:38 - loss: 1.2103 - accuracy: 0.6000Epoch 3/10\n",
      "667/667 [==============================] - 185s 278ms/step - loss: 1.1430 - accuracy: 0.6345 - val_loss: 1.0961 - val_accuracy: 0.6601 loss: 1.0968 - accuracy: 0.6526860 - accuracy: 0.40.............] - ETA: 1:25 - loss: 1.1208 - accuracy: acy: 0.44...........] - ETA: 4:15 - loss: 0.9947 - accuracy: 0.697- accuracy: \n",
      "423/667 [==================>...........] - ETA: 4:09 - loss: 1.0102 - accuracy: 0.6805Epoch 8/10\n",
      "667/667 [==============================] - 767s 1s/step - loss: 1.3393 - accuracy: 0.5577 - val_loss: 1.3583 - val_accuracy: 0.5641\n",
      "Epoch 6/10\n",
      "667/667 [==============================] - 778s 1s/step - loss: 1.3154 - accuracy: 0.5774 - val_loss: 1.3462 - val_accuracy: 0.5802- accuracy: 0.61\n",
      "Epoch 6/10\n",
      "667/667 [==============================] - 760s 1s/step - loss: 1.2947 - accuracy: 0.5732 - val_loss: 1.2840 - val_accuracy: 0.5906\n",
      "485/667 [====================>.........] - ETA: 49s - loss: 1.1222 - accuracy: 0.6423Epoch 6/10\n",
      "667/667 [==============================] - 657s 985ms/step - loss: 1.6555 - accuracy: 0.4509 - val_loss: 1.5001 - val_accuracy: 0.5238ccuracy: 0.64.67 [================>.............] - ETA: 1:22 - loss: 1.1337 - accuracy: 0.638962 - accuracy: 1/667 [====================>.........] - ETA: 3:20 - loss: 1.0949 - accuracy: 0.6508 - loss: 1.1315 - accuracy: 0.638\n",
      "121/667 [====>.........................] - ETA: 9:58 - loss: 1.1687 - accuracy: 0.6144 Epoch 3/10\n",
      "667/667 [==============================] - 190s 284ms/step - loss: 1.1196 - accuracy: 0.6453 - val_loss: 1.0968 - val_accuracy: 0.65627 - loss: 1.1269 - accuracy: 0.64324 - accuracy: 0.63=======>......................] - ETA: 2:12 - loss: 1.1256 - accuracy: 0.643 0.ETA: 3:10 - loss: 0.9975 - accuracy: 0.6..................] - ETA: 10:12 - loss: 1.5368 - accuracy: 0.4======>....................] - ETA: 2:00 - loss: 1.1196 - accuracy: 0.6667 [===>..........................] - ETA: 9:20 - loss: 1.5757 - accuracy: 0.476 - accuracy: 0.=============>..] - ETA: 7s - loss: 1.1152 - accuracy: 0.\n",
      "656/667 [============================>.] - ETA: 10s - loss: 1.5920 - accuracy: 0.4750Epoch 8/10\n",
      "667/667 [==============================] - 200s 300ms/step - loss: 1.1178 - accuracy: 0.6439 - val_loss: 1.0903 - val_accuracy: 0.6577: 0A: 2:45 - loss: 1.0166 - accuracy: 0.................] - ETA: 10:59 - loss: 1.2071 - accuracy: 0.63946 - accuracy: 0.65\n",
      "182/667 [=======>......................] - ETA: 8:50 - loss: 1.1632 - accuracy: 0.6224Epoch 8/10\n",
      "667/667 [==============================] - 673s 1s/step - loss: 1.5919 - accuracy: 0.4756 - val_loss: 1.4585 - val_accuracy: 0.5439oss: 1.1184 - accuracy: 0.64 1.1160 - accuracy: 0.67 2:37 - loss: 1.0701 - accuracy: 0.68\n",
      " 38/667 [>.............................] - ETA: 2:39 - loss: 1.0636 - accuracy: 0.6850Epoch 3/10\n",
      "667/667 [==============================] - 201s 302ms/step - loss: 1.1375 - accuracy: 0.6375 - val_loss: 1.1462 - val_accuracy: 0.6324\n",
      "100/667 [===>..........................] - ETA: 2:26 - loss: 1.0594 - accuracy: 0.6766Epoch 8/10\n",
      "667/667 [==============================] - 185s 278ms/step - loss: 1.1154 - accuracy: 0.6472 - val_loss: 1.0746 - val_accuracy: 0.66251s - loss: 1.1151 - accuracy: 0.647- accuracy: 0>........] - ETA: 44s - loss: 1.1174 - accuracy: 0.647y: 0.6ETA: 1:41 - loss: 1.0683 - accuracy: 0.[====>.........................] - ETA: 2:18 - loss: 1.1268 - accuracy: 0.64 loss: 1.5694 - accuracy: 0..] - ETA: 1:30 - loss: 1.0684 - accuracy: 0=>...................] - ETA: 1:53 - loss: 1.0751 - accuracy: 0.66curacy: oss: 1.1932 - accuracy: ......] - ETA: 1:36 - loss: 1.0742 - accuracy: 0.66.65\n",
      "Epoch 9/10\n",
      "391/667 [==========....................] - ETA: 9:08 - loss: 1.2685 - accuracy: 0.575.....] - ETA: 58s - loss: 1.0818 - accuracy: 0."
     ]
    }
   ],
   "source": [
    "grid_result = grid.fit(x_train, y_train)"
   ]
  },
  {
   "cell_type": "code",
   "execution_count": null,
   "metadata": {},
   "outputs": [
    {
     "ename": "NameError",
     "evalue": "name 'grid_result' is not defined",
     "output_type": "error",
     "traceback": [
      "\u001b[0;31m---------------------------------------------------------------------------\u001b[0m",
      "\u001b[0;31mNameError\u001b[0m                                 Traceback (most recent call last)",
      "\u001b[1;32m/Users/Cyrille/Documents/aiml22/Deep learning/week3/cnn/day2/Cifar10.ipynb Cell 33\u001b[0m line \u001b[0;36m1\n\u001b[0;32m----> <a href='vscode-notebook-cell:/Users/Cyrille/Documents/aiml22/Deep%20learning/week3/cnn/day2/Cifar10.ipynb#X44sZmlsZQ%3D%3D?line=0'>1</a>\u001b[0m grid_result\u001b[39m.\u001b[39mbest_params_\n",
      "\u001b[0;31mNameError\u001b[0m: name 'grid_result' is not defined"
     ]
    }
   ],
   "source": [
    "grid_result.best_params_"
   ]
  },
  {
   "cell_type": "code",
   "execution_count": null,
   "metadata": {},
   "outputs": [],
   "source": []
  }
 ],
 "metadata": {
  "kernelspec": {
   "display_name": "Python 3 (ipykernel)",
   "language": "python",
   "name": "python3"
  },
  "language_info": {
   "codemirror_mode": {
    "name": "ipython",
    "version": 3
   },
   "file_extension": ".py",
   "mimetype": "text/x-python",
   "name": "python",
   "nbconvert_exporter": "python",
   "pygments_lexer": "ipython3",
   "version": "3.11.4"
  }
 },
 "nbformat": 4,
 "nbformat_minor": 5
}
